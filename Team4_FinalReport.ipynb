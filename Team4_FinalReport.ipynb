{
 "cells": [
  {
   "cell_type": "markdown",
   "metadata": {
    "id": "bkFfMurssI0l"
   },
   "source": [
    "# Golden wind in r/WallStreetBets\n",
    "\n",
    "* r/WallStreetBets Research Project Phase 3\n",
    "* Team 4\n",
    "* Anqi Fang, Jiashuo Sun, Raymond Su\n",
    "\n",
    "Part 1. Introduction of research and problem\n",
    "\n",
    "Part 2. Data description and preperation (see seperate notebook )\n",
    "\n",
    "Part 3 (Analysis). Identification and Analysis on Key Opinion Leader (KOL)\n",
    "\n",
    "Part 4 (Analysis). High Frequency Words and Named Entity Recognition\n",
    "\n",
    "Part 5 (Analysis). Topic Modeling Analysis (see seperate notebook \"Team4_FinalReport_Topic_modeling.ipynb\")\n",
    "\n",
    "Part 6 (Analysis). Characteristics of popular submissions (see seperate notebook \"Team4_FinalReport_Prediction.ipynb\")\n",
    "\n",
    "Part 7 (Analysis). Predict what kind of submission will get popular on subreddit r/WallStreetBets? (see seperate notebook \"Team4_FinalReport_Prediction.ipynb\")\n",
    "\n",
    "Part 8: Limitation, Future Work, and Ethical Consideration\n",
    "Part 9: Work Allocation\n"
   ]
  },
  {
   "cell_type": "markdown",
   "metadata": {
    "id": "tAGH7U6qeNZZ"
   },
   "source": [
    "## Part 1. Introduction of research and problem\n"
   ]
  },
  {
   "cell_type": "markdown",
   "metadata": {
    "id": "z0TGcQTyDG51"
   },
   "source": [
    "### Part 1-1: Problem/Topic of this project\n",
    "The focus of our study would be the \"GameStop\" event which happened on this r/WallStreetBets subreddit in 2021. The event is very dramatic and triggered huge reactions from various fields, especially the finance and investment area. Some reddit users identified an opportunity to short queeze the Wall Street investment funds which short sold the stocks of a small company GameStop, and appealed the users on this subreddit to buy the stock and hold. As a result, the price of this stock was pushed rocket high at the beginning of 2021.\n",
    "\n",
    "The narritive of retail investors \"battling\" Wall Street is very attractive, and could inspire discussion about whether this is the victory of finanical democratization, or this is the proof that retail investors can sometimes lead to disruption of \"normal order\" of financial market. We are also very interested in this event and the online community r/WallStreetBets, so we want to conduct some research on user interactions and patterns in this cummunity, as well as signals or prophecy of similar wide-spread event, from the perspective of social media itself, instead of the financial market.\n",
    "\n"
   ]
  },
  {
   "cell_type": "markdown",
   "metadata": {
    "id": "1258libTDYDr"
   },
   "source": [
    "### Part 1-2: Research Questions\n",
    "* First of all, are there any Key Opinion Leaders? How to measure their influence? We are going to find some metrics to measure the influence, like upvote ratio, score, comments ...etc\n",
    "* Secondly, how were users convinced and motivated? We are going to investigate the interactions of users in this subreddit by analyzing the votes and comments.\n",
    "* Next, what are the signals for such widespread herd behaviors? We are planning to study the keyword, number of posts related to this \"GameStop\" discussion, rising posts …etc to find out the significant signals.\n",
    "* Lastly, can we predict the next \"GameStop\" event? If possible and if time permits, we want to investigate whether it is possible to develop a method to identify the pattern or signal of similar events happening and send out the alerts to stakeholders."
   ]
  },
  {
   "cell_type": "markdown",
   "metadata": {
    "id": "Py20f39YDdF3"
   },
   "source": [
    "### Part 1-3: Motivation\n",
    "\n",
    "* We want to help investors to recognize the signal and identify the trend early and react quickly.\n",
    "* We also hope the results of our study can set an alert to the financial regulators like SEC to react to some unexptected trend like the \"GameStop\" event quickly.\n",
    "* We want to provide more insights to researchers about the online community ecosystem, to shed some light on and possibly inspire more research study on online community. "
   ]
  },
  {
   "cell_type": "markdown",
   "metadata": {
    "id": "b4MMamUR6Eqn"
   },
   "source": [
    "## Part 2. Data description and preperation "
   ]
  },
  {
   "cell_type": "markdown",
   "metadata": {
    "id": "vhDlDcIZE6uq"
   },
   "source": [
    "### Part 2-1: Data preperation\n",
    "\n",
    "**Please see Team4_FinalReport_fetch_and_clean.ipynb**"
   ]
  },
  {
   "cell_type": "markdown",
   "metadata": {
    "id": "kfivp2nQFEyH"
   },
   "source": [
    "### Part 2-2: Data description\n",
    "In order to fetch a large amount of data from r/wallstritbets, we decide to use PushshiftAPI from the psaw library. To be more specific about the attribute of each submission, we are going to parse the following fields: 'author,' 'id,' 'num_comments,' 'score,' 'upvote_ratio,' 'title,' 'created_utc,' and 'selftext.'\n",
    "\n",
    "* author: Provides an instance of Redditor.\n",
    "* id: ID of the submission.\n",
    "* num_comments: The number of comments on the submission.\n",
    "* score: The number of upvotes for the submission.\n",
    "* upvote_ratio: The percentage of upvotes from all votes on the submission.\n",
    "* title: The title of the submission.\n",
    "* selftext: The article of the post.\n",
    "* created_utc: Time the submission was created, represented in Unix Time.\n",
    "\n",
    "In addition, because the study focuses on the GameStop event, we limited our research period from 2020-12-08 to 2021-03-01 to ensure that all data are consistent with the real world.\n",
    "\n",
    "Lastly, we store all the submission data into a DataFrame and save is as csv file for future use."
   ]
  },
  {
   "cell_type": "markdown",
   "metadata": {
    "id": "z1u7nPMqkDI3"
   },
   "source": [
    "## Part 3. Identification and Analysis on Key Opinion Leader (KOL) \n",
    "\n",
    "#### Introduction to our overall analysis methodology\n",
    "\n",
    "We will analyze through two perspectives, user and post. Part 3 and 4 in this notebook focus on the user while part 5 and 6 in a seperate notebook emphsazies the analysis through the post content.\n",
    "1. User perspective\n",
    "* We will go through simple correlation analysis as first step. The next step is identifying the KOL. We will also narrow down our focus on the \"Title\" and \"Text\" of the KOL, as well as more on the frequent terms and name.\n",
    "2. Post perspective\n",
    "* We will define the \"popular\" posts by upvote ratio and score (number of upvotes), and then analyze the characteristics of popular posts/submissions. Furthermore, we will try to predict what kind of submissions will get popular, as the first step of trying to capture signals for the next \"GameStop\" event.\n",
    "\n",
    "\n",
    "\n",
    "\n",
    "\n",
    "#### *What is KOL?*\n",
    "Key Opinion Leader (KOL) is a well-respected or trusted influencer with proven experience and expertise in a particular field. In our cases, we define KOL as those who attracted attention and interaction from other in the  r/WallStreetBets discussion board. We measure attention and interaction mainly through three numeric variable from our data, which are: \"num_comments\", \"score\", and \"upvote_ratio\".\n",
    "\n",
    "#### *Why analyzing KOL?*\n",
    "Understanding KOL's behaviors and differences will help us understand the informations and actions that trigger and impact other user at the internet envirnment. The study of KOL can also be used as the tool to guide the online user to maintain an efficient and attractive, yet respectful disucssion environment.\n",
    "\n",
    "#### *Goals of analyzing KOL*\n",
    "We want to find out how did users with the most eye-catching and popular posts behave at r/WallStreetBets. What are the things that they do differently from the average users in the discussion. Also, did they raise the attention through positive or negative behaviors. "
   ]
  },
  {
   "cell_type": "markdown",
   "metadata": {
    "id": "5hZEPkB1kLhy"
   },
   "source": [
    "### KOL Analysis Step 1. Analysis the correlations between \"num_comments\", \"score\", and \"upvote_ratio\""
   ]
  },
  {
   "cell_type": "code",
   "execution_count": null,
   "metadata": {
    "id": "ifN_JCYyEEBm"
   },
   "outputs": [],
   "source": [
    "from google.colab import drive\n",
    "drive.mount('/content/drive')"
   ]
  },
  {
   "cell_type": "code",
   "execution_count": null,
   "metadata": {
    "id": "LLebnRxWEEyS"
   },
   "outputs": [],
   "source": [
    "df = pd.read_csv(\"./drive/MyDrive/cleaned_submissions.csv\")"
   ]
  },
  {
   "cell_type": "code",
   "execution_count": null,
   "metadata": {
    "colab": {
     "base_uri": "https://localhost:8080/",
     "height": 339
    },
    "executionInfo": {
     "elapsed": 512,
     "status": "ok",
     "timestamp": 1653193543809,
     "user": {
      "displayName": "Anqi Fang",
      "userId": "10869043622668042368"
     },
     "user_tz": 420
    },
    "id": "CDGFS2srkHLC",
    "outputId": "917e17f6-bf24-4e84-9243-89e435d2a0c0"
   },
   "outputs": [
    {
     "data": {
      "image/png": "[encoded data removed]",
      "text/plain": [
       "<Figure size 432x288 with 2 Axes>"
      ]
     },
     "metadata": {},
     "output_type": "display_data"
    }
   ],
   "source": [
    "#Inspect the relationships among numeric variables\n",
    "corrMatrix = df.corr()\n",
    "#Visualize the correlations among numeric variables\n",
    "#Referencing: https://datatofish.com/correlation-matrix-pandas/\n",
    "sn.heatmap(corrMatrix, annot=True)\n",
    "plt.show()"
   ]
  },
  {
   "cell_type": "markdown",
   "metadata": {
    "id": "sv4FgU_jkRHH"
   },
   "source": [
    "The correlations between the three main numeric variables that we want to analysis are:\n",
    "* num_comments vs. score = 0.45\n",
    "* num_comments vs. upvote_ratio = -0.019\n",
    "* score vs. upvote_ratio = -0.011\n",
    "We learned that \"upvote_ratio\" is not strongly correlated with both \"num_comments\" and \"score\". Thus, we can exclude it for now in our analysis. We do see that \"num_comments\" and \"score\" are positively correlated with a score of 0.45. Next, we will focus on digging into \"num_comments\" and \"score\"."
   ]
  },
  {
   "cell_type": "code",
   "execution_count": null,
   "metadata": {
    "id": "pkPgyBi0lHzm"
   },
   "outputs": [],
   "source": [
    "#Top 100 user with the highest \"num_comments\"\n",
    "top_100_num_comments = df.sort_values(by='num_comments', ascending=False).head(100)"
   ]
  },
  {
   "cell_type": "code",
   "execution_count": null,
   "metadata": {
    "id": "oXtM-014lLq4"
   },
   "outputs": [],
   "source": [
    "#Top 100 user with the highest up vote \"score\"\n",
    "top_100_score = df.sort_values(by='score', ascending=False).head(100)"
   ]
  },
  {
   "cell_type": "code",
   "execution_count": null,
   "metadata": {
    "id": "jaXMDALtlOEa"
   },
   "outputs": [],
   "source": [
    "#Detect whether two lists is having any intersection\n",
    "def intersection(lst1, lst2):\n",
    "    lst3 = [value for value in lst1 if value in lst2]\n",
    "    return lst3"
   ]
  },
  {
   "cell_type": "code",
   "execution_count": null,
   "metadata": {
    "colab": {
     "base_uri": "https://localhost:8080/"
    },
    "executionInfo": {
     "elapsed": 165,
     "status": "ok",
     "timestamp": 1653193738293,
     "user": {
      "displayName": "Anqi Fang",
      "userId": "10869043622668042368"
     },
     "user_tz": 420
    },
    "id": "HoXgeQZylQ6A",
    "outputId": "5e8dd565-3f04-4e33-af10-b6800f96e61a"
   },
   "outputs": [
    {
     "data": {
      "text/plain": [
       "Counter({'-ordinary': 1,\n",
       "         'AquaSea_Squirrel': 1,\n",
       "         'AutoDrafter2020': 1,\n",
       "         'JoeWelburg': 1,\n",
       "         'Lancaster61': 1,\n",
       "         'MarioBuzo': 1,\n",
       "         'Peteskies': 1,\n",
       "         'RVCFever': 1,\n",
       "         'Rambo2307': 1,\n",
       "         'RebelliousBreadbox': 1,\n",
       "         'SenateMajorityLeader': 1,\n",
       "         'Slyver12': 1,\n",
       "         'Tay_Tay86': 1,\n",
       "         'Treeline1': 1,\n",
       "         'Tyrion69Lannister': 1,\n",
       "         'Wonderboi1995': 1,\n",
       "         '__TIE_Guy': 1,\n",
       "         'astroxlogical': 1,\n",
       "         'bmo1234': 1,\n",
       "         'convolutionx': 1,\n",
       "         'enter--matrix': 1,\n",
       "         'geomanis': 1,\n",
       "         'hallidev': 1,\n",
       "         'hamzah604': 1,\n",
       "         'handypanda93': 1,\n",
       "         'helmu': 1,\n",
       "         'jfkah': 1,\n",
       "         'kigfik': 1,\n",
       "         'klayb': 1,\n",
       "         'kokoloko1010': 1,\n",
       "         'licensed_overthinker': 1,\n",
       "         'misterYOLOdolo': 1,\n",
       "         'mooboy333': 1,\n",
       "         'natenicholson': 1,\n",
       "         'nogoodnamesework': 1,\n",
       "         'pmurphy0922': 1,\n",
       "         'protege45': 1,\n",
       "         'red-t-shirt': 1,\n",
       "         'reddefense': 1,\n",
       "         'smohyee': 1,\n",
       "         'soggypoopsock': 1,\n",
       "         'toastthebread': 1,\n",
       "         'tombos21': 1,\n",
       "         'turdled': 1,\n",
       "         'vinlo': 1})"
      ]
     },
     "execution_count": 43,
     "metadata": {},
     "output_type": "execute_result"
    }
   ],
   "source": [
    "#Find out if there is any intersection of \"ID\" from the top 100 \"num_comments\" and \"score\"\n",
    "comments_author = top_100_num_comments['author'].tolist()\n",
    "score_author = top_100_score['author'].tolist()\n",
    "kol = intersection(comments_author, score_author)\n",
    "Counter(kol)"
   ]
  },
  {
   "cell_type": "markdown",
   "metadata": {
    "id": "CFTdjjHBlTkY"
   },
   "source": [
    "In order to learn about whether there is any significant similarities between users with many \"num_comments\" and users with many \"score\", we checked the intersection of the result from filtering solely with \"num_comments\" and \"score\". Interestingly, we found many overlap at all on the top 100 users with most \"num_comments\" and the top 100 users with most \"score\". We also used the counter function to categorize the overlap and found that none of the overlap repreated. \n",
    "\n",
    "We can have the initial conclusion that the most praised posts do not equal to the most commented post. Yet, there is many overlap, thus is accurate to say the combination of top \"num_comments\" and \"score\" can be used for defineing KOL."
   ]
  },
  {
   "cell_type": "code",
   "execution_count": null,
   "metadata": {
    "colab": {
     "base_uri": "https://localhost:8080/",
     "height": 297
    },
    "executionInfo": {
     "elapsed": 519,
     "status": "ok",
     "timestamp": 1653193753409,
     "user": {
      "displayName": "Anqi Fang",
      "userId": "10869043622668042368"
     },
     "user_tz": 420
    },
    "id": "suVDaReilU9Q",
    "outputId": "55f5ce72-3fb1-446f-a6f7-fe4cfed0f607"
   },
   "outputs": [
    {
     "data": {
      "text/plain": [
       "<matplotlib.axes._subplots.AxesSubplot at 0x7f17c8459890>"
      ]
     },
     "execution_count": 44,
     "metadata": {},
     "output_type": "execute_result"
    },
    {
     "data": {
      "image/png": "[encoded data removed]",
      "text/plain": [
       "<Figure size 432x288 with 1 Axes>"
      ]
     },
     "metadata": {},
     "output_type": "display_data"
    }
   ],
   "source": [
    "#Scatter plot of \"num_comments\" and \"score\" to confirm whether they have any correlation\n",
    "sns.scatterplot(x=\"num_comments\", y=\"score\", data=top_100_num_comments)"
   ]
  },
  {
   "cell_type": "markdown",
   "metadata": {
    "id": "c8i_7LJVlZ8u"
   },
   "source": [
    "* The scatter plot result proven that there is a slight positive correlation between \"num_comments\" and \"score\". Since the correlation is not that strong, we are stopping the analysis of relationship between these two variable for now. \n",
    "* We will continue the analysis taking both \"num_comments\" and \"score\" into consideration and filter them together to find posts that have both high \"num_comments\" and \"score\". As for now we define KOL as the top 20 users with most \"num_comments\" and \"score\". \n",
    "* There are can be many concerns about the defination of KOL, eg. user who posted ealier might have more chance for getting higher \"num_comments\". However, since are only analyzing the specifc period during the GameStop event, we are not very concern with the impact of time. "
   ]
  },
  {
   "cell_type": "code",
   "execution_count": null,
   "metadata": {
    "id": "Y7HPpuWslfG4"
   },
   "outputs": [],
   "source": [
    "#Top 20 user with the highest \"num_comments\" and \"score\"\n",
    "top_20_score_num_comments = df.sort_values(\n",
    "    by=['score', 'num_comments'], ascending=False).head(20)"
   ]
  },
  {
   "cell_type": "markdown",
   "metadata": {
    "id": "cZU2IWD7lhij"
   },
   "source": [
    "### KOL Analysis Step 2. Analysis the \"title\" of the top 20 user with the highest \"num_comments\" and \"score\"\n",
    "\n",
    "Learning from the research paper *<This Just In: Fake News Packs a Lot in Title, Uses Simpler, Repetitive Content in Text Body, More Similar to Satire than Real News>* written by Benjamin D. Horne and Sibel Adali, the \"Title\" of posts and news is a very informatic indication that tells whether the source/information below the \"Title\" is trust-worthy. One of the indications from \"Title\" is the use of capital letter. Horne and Adali wrote that \"Fake titles also used more all capitalized words, significantly more proper nouns, but fewer nouns overall, and fewer stopwords\", We want to investigate KOL's creditibility from the title of their post through the ratio of capital letter they used. "
   ]
  },
  {
   "cell_type": "code",
   "execution_count": null,
   "metadata": {
    "id": "u2tSpMpMllZK"
   },
   "outputs": [],
   "source": [
    "#Tokenize the \"title\"\n",
    "from nltk.tokenize import WhitespaceTokenizer, WordPunctTokenizer\n",
    "\n",
    "#Iterate through the “title\" text to seperate the text\n",
    "whiteSpace_tokens = []\n",
    "for text in top_20_score_num_comments['title']:\n",
    "    whiteSpace_tokens.append(WhitespaceTokenizer().tokenize(text))\n",
    "\n",
    "#Count the capital lette used in \"title\" and compute the ratio of capital letter\n",
    "lower_cases_cnt = []\n",
    "upper_cases_cut = []\n",
    "for text in top_20_score_num_comments['title']:\n",
    "    count_lower=0\n",
    "    count_upper=0\n",
    "    for i in text:\n",
    "          if(i.islower()):\n",
    "                count_lower=count_lower+1\n",
    "          elif(i.isupper()):\n",
    "                count_upper=count_upper+1\n",
    "    lower_cases_cnt.append(count_lower)\n",
    "    upper_cases_cut.append(count_upper)\n",
    "\n",
    "top_20_score_num_comments['title_lower_cases_cnt'] = lower_cases_cnt\n",
    "top_20_score_num_comments['title_upper_cases_cut'] = upper_cases_cut\n",
    "top_20_score_num_comments['title_letter_cut'] = \n",
    "      top_20_score_num_comments['title_lower_cases_cnt'] + top_20_score_num_comments['title_upper_cases_cut'] \n",
    "top_20_score_num_comments['title_upper_ratio'] = \n",
    "      top_20_score_num_comments['title_upper_cases_cut'] / top_20_score_num_comments['title_letter_cut'] "
   ]
  },
  {
   "cell_type": "markdown",
   "metadata": {
    "id": "atfYsZ_03-RE"
   },
   "source": [
    "In order to make comparision of the capital letter ratio we generated for the top 20 user's post with most comment and up-vote score. We also generated a 1000 rows of data as a sample of the entire data, and then did the same analysis. "
   ]
  },
  {
   "cell_type": "code",
   "execution_count": null,
   "metadata": {
    "id": "925msh5mlmcH"
   },
   "outputs": [],
   "source": [
    "#Randomly generated 1000 rows as sample data for comparison\n",
    "df_sample = df.sample(n=1000)\n",
    "\n",
    "#Iterate through the “title\" text to seperate the text\n",
    "whiteSpace_tokens = []\n",
    "for text in df_sample['title']:\n",
    "    whiteSpace_tokens.append(WhitespaceTokenizer().tokenize(text))\n",
    "\n",
    "#Count the capital lette used in \"title\" and compute the ratio of capital letter\n",
    "lower_cases_cnt = []\n",
    "upper_cases_cut = []\n",
    "for text in df_sample['title']:\n",
    "    count_lower=0\n",
    "    count_upper=0\n",
    "    for i in text:\n",
    "          if(i.islower()):\n",
    "                count_lower=count_lower+1\n",
    "          elif(i.isupper()):\n",
    "                count_upper=count_upper+1\n",
    "    lower_cases_cnt.append(count_lower)\n",
    "    upper_cases_cut.append(count_upper)\n",
    "\n",
    "df_sample['title_lower_cases_cnt'] = lower_cases_cnt\n",
    "df_sample['title_upper_cases_cut'] = upper_cases_cut\n",
    "df_sample['title_letter_cut'] = df_sample['title_lower_cases_cnt'] + df_sample['title_upper_cases_cut'] \n",
    "df_sample['title_upper_ratio'] = df_sample['title_upper_cases_cut'] / df_sample['title_letter_cut'] "
   ]
  },
  {
   "cell_type": "code",
   "execution_count": null,
   "metadata": {
    "colab": {
     "base_uri": "https://localhost:8080/"
    },
    "executionInfo": {
     "elapsed": 3,
     "status": "ok",
     "timestamp": 1653193756241,
     "user": {
      "displayName": "Anqi Fang",
      "userId": "10869043622668042368"
     },
     "user_tz": 420
    },
    "id": "3LAYwlaqlqgR",
    "outputId": "1fe6d42c-d9c8-46bf-9b55-3c44c2acadb8"
   },
   "outputs": [
    {
     "name": "stdout",
     "output_type": "stream",
     "text": [
      "Average upper cases letter ratio in title of sample: 0.3499281113184498\n",
      "Average upper cases letter ratio in title of top 20 account with up-vote score and comments: 0.1515672892339675\n"
     ]
    }
   ],
   "source": [
    "#Compute the mean of capital letter ratio in top 20 data and the sample data\n",
    "mean1 = df_sample['title_upper_ratio'].mean()\n",
    "mean2 = top_20_score_num_comments['title_upper_ratio'].mean()\n",
    "\n",
    "#Print out result for comparison\n",
    "print(\"Average upper cases letter ratio in title of sample: \" + str(mean1))\n",
    "print(\"Average upper cases letter ratio in title of top 20 account with up-vote score and comments: \" + str(mean2))\n"
   ]
  },
  {
   "cell_type": "markdown",
   "metadata": {
    "id": "fjlIGW634pFl"
   },
   "source": [
    "Interestingly, we see that the upper case ratio in title is much higher in the sample data than the top 20 data. The sample data is almost three times to the top 20 data. This is saying that the title of KOL's posts are more conservative with less capital letter, they attract people's attention with the actual content not the dramatic wording and misleading hits in their title. \n",
    "\n"
   ]
  },
  {
   "cell_type": "markdown",
   "metadata": {
    "id": "-Y-mypXn7N9_"
   },
   "source": [
    "### KOL Analysis Step 3. Analysis of KOL's text content\n",
    "We will be using VADER Sentiment Analysis to analyze the text content from the KOL leader. VADER (Valence Aware Dictionary and sEntiment Reasoner) is a lexicon and rule-based sentiment analysis tool that is specifically attuned to sentiments expressed in social media, and works well on texts from other domains.\n",
    "\n",
    "We will use the average compound value of the entire dataset as the \"sentiment score\". The compound value is generated through the function inside the VADER package.It is computed by summing the valence scores of each word in the lexicon, adjusted according to the rules, and then normalized to be between -1 (most extreme negative) and +1 (most extreme positive). "
   ]
  },
  {
   "cell_type": "code",
   "execution_count": null,
   "metadata": {
    "id": "21f7j4lhs9sA"
   },
   "outputs": [],
   "source": [
    "!pip install vaderSentiment"
   ]
  },
  {
   "cell_type": "code",
   "execution_count": null,
   "metadata": {
    "colab": {
     "base_uri": "https://localhost:8080/"
    },
    "executionInfo": {
     "elapsed": 372400,
     "status": "ok",
     "timestamp": 1653194133927,
     "user": {
      "displayName": "Anqi Fang",
      "userId": "10869043622668042368"
     },
     "user_tz": 420
    },
    "id": "cU3mv7rplqnE",
    "outputId": "1167b232-271b-4aa9-8ad8-4da9c0ad20c1"
   },
   "outputs": [
    {
     "name": "stderr",
     "output_type": "stream",
     "text": [
      "100%|██████████| 20/20 [06:12<00:00, 18.62s/it]"
     ]
    },
    {
     "name": "stdout",
     "output_type": "stream",
     "text": [
      "Average \"neg\" value: 0.0\n",
      "Average \"neu\" value: 0.863777583047877\n",
      "Average \"pos\" value: 0.03600732892535649\n",
      "Average \"compound\" value: 0.016520162510953444\n"
     ]
    },
    {
     "name": "stderr",
     "output_type": "stream",
     "text": [
      "\n"
     ]
    }
   ],
   "source": [
    "#loop through top 20 data with VADER Sentiment Analysis\n",
    "from vaderSentiment.vaderSentiment import SentimentIntensityAnalyzer\n",
    "\n",
    "vader_df = pd.DataFrame()\n",
    "for text in tqdm(top_20_score_num_comments['tokened_text']):\n",
    "    for i in text:\n",
    "        analyzer = SentimentIntensityAnalyzer()\n",
    "        a = analyzer.polarity_scores(i)\n",
    "        temp = pd.DataFrame.from_dict(a, orient ='index') \n",
    "        temp = temp.transpose()\n",
    "        vader_df = pd.concat([vader_df, temp], axis=0)\n",
    "\n",
    "print('Average \"neg\" value: '+ str(vader_df['neg'].mean()))\n",
    "print('Average \"neu\" value: '+ str(vader_df['neu'].mean()))\n",
    "print('Average \"pos\" value: '+ str(vader_df['pos'].mean()))\n",
    "print('Average \"compound\" value: '+ str(vader_df['compound'].mean()))"
   ]
  },
  {
   "cell_type": "markdown",
   "metadata": {
    "id": "lg46MgH--psy"
   },
   "source": [
    "The average \"compound\" value of the top 20 data is 0.0165, which is mostly netural in polarity. This is saying the text content are neither positive nor negative. We will next use the sample data generated above to do the exact same VADER Sentiment Analysis, and us the result as comparison again."
   ]
  },
  {
   "cell_type": "code",
   "execution_count": null,
   "metadata": {
    "colab": {
     "background_save": true,
     "base_uri": "https://localhost:8080/"
    },
    "id": "4VpFUG0ql-0I",
    "outputId": "d0c1660d-04ee-4450-df09-4eac7cb7c861"
   },
   "outputs": [
    {
     "name": "stderr",
     "output_type": "stream",
     "text": [
      "100%|██████████| 1000/1000 [2:12:39<00:00,  7.96s/it]"
     ]
    },
    {
     "name": "stdout",
     "output_type": "stream",
     "text": [
      "Average \"neg\" value: 0.0\n",
      "Average \"neu\" value: 0.867971729542138\n",
      "Average \"pos\" value: 0.032540049134023065\n",
      "Average \"compound\" value: 0.014929374542694027\n"
     ]
    },
    {
     "name": "stderr",
     "output_type": "stream",
     "text": [
      "\n"
     ]
    }
   ],
   "source": [
    "#loop through sample data with VADER Sentiment Analysis\n",
    "from vaderSentiment.vaderSentiment import SentimentIntensityAnalyzer\n",
    "\n",
    "vader_df = pd.DataFrame()\n",
    "for text in tqdm(df_sample['tokened_text']):\n",
    "    for i in text:\n",
    "        analyzer = SentimentIntensityAnalyzer()\n",
    "        a = analyzer.polarity_scores(i)\n",
    "        temp = pd.DataFrame.from_dict(a, orient ='index') \n",
    "        temp = temp.transpose()\n",
    "        vader_df = pd.concat([vader_df, temp], axis=0)\n",
    "\n",
    "print('Average \"neg\" value: '+ str(vader_df['neg'].mean()))\n",
    "print('Average \"neu\" value: '+ str(vader_df['neu'].mean()))\n",
    "print('Average \"pos\" value: '+ str(vader_df['pos'].mean()))\n",
    "print('Average \"compound\" value: '+ str(vader_df['compound'].mean()))"
   ]
  },
  {
   "cell_type": "markdown",
   "metadata": {
    "id": "roj1UWDH_lvb"
   },
   "source": [
    "The average \"compound\" score of the sample data is 0.0149 which is also in the range of netrual. The results of both top 20 data and the sample data are very similar."
   ]
  },
  {
   "cell_type": "markdown",
   "metadata": {
    "id": "rvJzJX8K_88x"
   },
   "source": [
    "### KOL Analysis Step 4. Initial findings and conclusions of KOL\n",
    "\n",
    "* We learned from the correlation analysis that the indication of KOL is the combination of number of comment and up-vote score.\n",
    "* We learned that most commented KOL does not mean it is the most up-voted KOL, same to the opposite way. Yet the combination of them is KOL.\n",
    "* KOL write their post with title that has less captial letter, in another way showing that they did not attract online user's attention through its actual content. This result also tells that users on r/WallStreetBets has the ability to distinguish fake or unauthentic information.\n",
    "* Lastly, there is no significant different on sentiment of the content from KOL.\n"
   ]
  },
  {
   "cell_type": "markdown",
   "metadata": {
    "id": "kEjPbs-UD66x"
   },
   "source": [
    "## Part 4. High frequency word and Name Entity Recognition\n",
    "\n",
    "In this section, we will identify the high frequency word and name entity.\n",
    "\n",
    "Continuing from the data processed in the previous steps, we will further analyze whether the data has similar phrases to gain a better understanding about what kind of words may appear in these kind of events.\n",
    "\n",
    "Named entity recognition is one of the text analysis process that can identify and classify named entities. The following are the most common fields of named entitie:\n",
    "\n",
    "1. Organizations\n",
    "2. Places\n",
    "3. Money\n",
    "4. Date\n",
    "5. Person\n",
    "\n",
    "In order to identify named entity we will use the Spacy library to help recognize the name entity."
   ]
  },
  {
   "cell_type": "markdown",
   "metadata": {
    "id": "QOuoVEE0yWVO"
   },
   "source": [
    "### High Frequency word"
   ]
  },
  {
   "cell_type": "code",
   "execution_count": null,
   "metadata": {
    "id": "lWDMvKkfyQYA"
   },
   "outputs": [],
   "source": [
    "def top20(thislist):\n",
    "    # First make a string out of the entire list\n",
    "    joinstr = \" \".join([str(text) for text in thislist])\n",
    "    wordlist = joinstr.split(\" \")\n",
    "    wordcount = Counter(wordlist)\n",
    "    return(wordcount.most_common(20))"
   ]
  },
  {
   "cell_type": "code",
   "execution_count": null,
   "metadata": {
    "colab": {
     "base_uri": "https://localhost:8080/",
     "height": 576
    },
    "executionInfo": {
     "elapsed": 665,
     "status": "ok",
     "timestamp": 1653347343171,
     "user": {
      "displayName": "Raymond Su",
      "userId": "11827733535300515954"
     },
     "user_tz": 420
    },
    "id": "Cqqa0juAyUHV",
    "outputId": "d39a8d14-f9da-4a7a-da5c-69ba3802e5af"
   },
   "outputs": [
    {
     "data": {
      "text/plain": [
       "<BarContainer object of 20 artists>"
      ]
     },
     "execution_count": 12,
     "metadata": {},
     "output_type": "execute_result"
    },
    {
     "data": {
      "image/png": "[encoded data removed]",
      "text/plain": [
       "<Figure size 1152x648 with 1 Axes>"
      ]
     },
     "metadata": {
      "needs_background": "light"
     },
     "output_type": "display_data"
    }
   ],
   "source": [
    "# turn cleaned_text into list\n",
    "high_f = top20(top_20_score_num_comments.cleaned_text.tolist())\n",
    "\n",
    "# sort by frequency\n",
    "high_f.sort(key=lambda x: x[1], reverse=True) \n",
    "\n",
    "word = list(zip(*high_f))[0]\n",
    "freq = list(zip(*high_f))[1]\n",
    "x_pos = np.arange(len(word))\n",
    "\n",
    "# calculate slope and intercept for the linear trend line\n",
    "slope, intercept = np.polyfit(x_pos, freq, 1)\n",
    "trendline = intercept + (slope * x_pos)\n",
    "\n",
    "plt.figure(figsize = (16,9))\n",
    "plt.plot(x_pos, trendline, color='red', linestyle='--') \n",
    "plt.xticks(x_pos, word)\n",
    "plt.xticks(rotation = 40)\n",
    "plt.ylabel('Frequency')\n",
    "plt.bar(x_pos, freq, align = 'center')"
   ]
  },
  {
   "cell_type": "markdown",
   "metadata": {
    "id": "Iy3_AjiWQD6V"
   },
   "source": [
    "Based on the above bar plot sorted by the frequency appearence, we can observe that most of the word is related to stock market and GME event, such as stock, market, and price etc."
   ]
  },
  {
   "cell_type": "markdown",
   "metadata": {
    "id": "pgYUOZHGyatD"
   },
   "source": [
    "### Name Entity"
   ]
  },
  {
   "cell_type": "code",
   "execution_count": null,
   "metadata": {
    "id": "Gdjk5Cqqydvh"
   },
   "outputs": [],
   "source": [
    "# install required packages\n",
    "!pip install spacy\n",
    "!python -m spacy download en_core_web_sm"
   ]
  },
  {
   "cell_type": "code",
   "execution_count": null,
   "metadata": {
    "id": "HC2EW96fyiGC"
   },
   "outputs": [],
   "source": [
    "import spacy\n",
    "\n",
    "nlp = spacy.load('en_core_web_sm')\n",
    "# turn dataframe text into list for later use\n",
    "text = top_20_score_num_comments.cleaned_text.tolist()"
   ]
  },
  {
   "cell_type": "code",
   "execution_count": null,
   "metadata": {
    "colab": {
     "base_uri": "https://localhost:8080/"
    },
    "executionInfo": {
     "elapsed": 987,
     "status": "ok",
     "timestamp": 1653348869756,
     "user": {
      "displayName": "Raymond Su",
      "userId": "11827733535300515954"
     },
     "user_tz": 420
    },
    "id": "yKQuafLLypG0",
    "outputId": "70e51580-3563-4d0c-d428-0671a1de4bf4"
   },
   "outputs": [
    {
     "name": "stdout",
     "output_type": "stream",
     "text": [
      "LAW : 1\n",
      "EVENT : 1\n",
      "LOC : 1\n",
      "PRODUCT : 1\n",
      "QUANTITY : 2\n",
      "MONEY : 2\n",
      "ORDINAL : 3\n",
      "NORP : 5\n",
      "TIME : 5\n",
      "GPE : 6\n",
      "CARDINAL : 11\n",
      "ORG : 18\n",
      "DATE : 20\n",
      "PERSON : 21\n"
     ]
    }
   ],
   "source": [
    "entity_dic = defaultdict(list)\n",
    "\n",
    "for i in range(len(text)):\n",
    "  # every string of text to nlp\n",
    "    doc = nlp(text[i])\n",
    "\n",
    "    for ent in doc.ents:\n",
    "      # if the label does not exist, create one\n",
    "        if ent.label_ not in entity_dic:\n",
    "            entity_dic[ent.label_] = [ent.text]\n",
    "        # if the text not under the label, append the text\n",
    "        elif ent.text not in entity_dic[ent.label_]:\n",
    "            entity_dic[ent.label_].append(ent.text)\n",
    "# print the key and value of the entity_dic that we gathered for top_20 score and comments\n",
    "# and sort by frequency\n",
    "entity_dic = dict(sorted(entity_dic.items(), key = lambda x:len(x[1])))\n",
    "for key, value in entity_dic.items():\n",
    "  print(key,':', len(value))"
   ]
  },
  {
   "cell_type": "markdown",
   "metadata": {
    "id": "MxoC3WQzOtG-"
   },
   "source": [
    "With the help of Spacy, we can easily acquired the entity types within the top 20 score and num of comments submission.\n",
    "\n",
    "It makes perfect sense that Person, Date, as well as ORG are most often mentioned in the top 20 submission on r/wallstreetbets. Because person and company name are most often mentioned and discussed in the stock market, especially when we focus on the analysis of game stop events."
   ]
  },
  {
   "cell_type": "markdown",
   "metadata": {
    "id": "oX8w5UEzRkxW"
   },
   "source": [
    "## Part 5. Topic Modeling"
   ]
  },
  {
   "cell_type": "markdown",
   "metadata": {
    "id": "XiSC8kBwedFV"
   },
   "source": [
    "**Please see Team4_FinalReport_Topic_modeling.ipynb**"
   ]
  },
  {
   "cell_type": "markdown",
   "metadata": {
    "id": "X5YMH75OI35R"
   },
   "source": [
    "## Part 6: Characteristics of popular submissions\n",
    "\n",
    "**Please see Team4_FinalReport_prediction.upynb**"
   ]
  },
  {
   "cell_type": "markdown",
   "metadata": {
    "id": "HevDg27MJeCr"
   },
   "source": [
    "## Part 7:Predict what kind of submission will get popular on subreddit r/WallStreetBets?\n",
    "**Please see Team4_FinalReport_prediction.upynb**"
   ]
  },
  {
   "cell_type": "markdown",
   "metadata": {
    "id": "5w4xoUmt_Xn0"
   },
   "source": [
    "## Part 8. Limitation, Future Work, and Ethical Consideration\n",
    "\n",
    "\n"
   ]
  },
  {
   "cell_type": "markdown",
   "metadata": {
    "id": "z7zD5-L4CbOk"
   },
   "source": [
    "### Limitation\n",
    "---\n",
    "* In the modeling process, we disregard the timestamp, and use all the submissions in a certain time period regardless of their timestamp to train the model and test the model. But in the real world, timestamp is important, because trending topics might change over a period of time, and the order of these trending topics is also important.\n",
    "\n",
    "* We just used the data from Reddit as our data source, and did not acquire more datasets from other social media platforms to cross validate our conclusions from Reddit data analysis. So we cannot make sure that our findings can be generalizable to other social media platforms. \n",
    "\n",
    "* We cannot validate whether the proposed monitoring method for predicted popular submission will successfully predict the next huge social media event, since this kind of event is very rare."
   ]
  },
  {
   "cell_type": "markdown",
   "metadata": {
    "id": "mnB7nDHEJzts"
   },
   "source": [
    "### Future Work:\n",
    "---\n",
    "* We might need to keep the timestamp and treat the dataset as a time series dataset, and properly divide the time periods to generate features and labels. \n",
    "* We might need to collect more data from various social media platforms, for example, Twitter, Facebook, ...etc. After analysis of datasets from different sources, we might be able to derive some more generalizable findings and reccomendations."
   ]
  },
  {
   "cell_type": "markdown",
   "metadata": {
    "id": "guiTOWxpOdi1"
   },
   "source": [
    "### Ethical Consideration: \n",
    "---\n",
    "* Inaccurate denominators, not being able to capture all the impact of the posts with just using variable like “number of comments”\n",
    "* Random sample might not be representative, we use random sample as comparison at some point of our analysis which might not be a very accurate representation of the entire data \n",
    "* Studied only English post, we only studied post in English which can lead to many bias\n"
   ]
  },
  {
   "cell_type": "markdown",
   "metadata": {
    "id": "UtcsSOvRCOwK"
   },
   "source": [
    "## Part 9: Work allocation\n",
    "---\n",
    "Anqi:\n",
    "  * KOL analysis\n",
    "  * Title and Text analysis of KOL\n",
    "  * Topic modeling analysis\n",
    "  * Analytical summary and interpretation\n",
    "\n",
    "\n",
    "Jiashuo:\n",
    " * Analysis on characteristics of popular submissions\n",
    " * Prediction on popular post and submission\n",
    " * Limitation and Future Work\n",
    " * Analytical summary and interpretation\n",
    "\n",
    "\n",
    "Raymond:\n",
    " * Data cleaning update\n",
    " * Analysis on high frequency word and Named Entity\n",
    " * Topic modeling analysis\n",
    " * Analytical summary and interpretation\t"
   ]
  },
  {
   "cell_type": "code",
   "execution_count": null,
   "metadata": {
    "id": "_gkJJPFVJqPn"
   },
   "outputs": [],
   "source": []
  }
 ],
 "metadata": {
  "colab": {
   "collapsed_sections": [
    "tAGH7U6qeNZZ",
    "b4MMamUR6Eqn",
    "z1u7nPMqkDI3",
    "kEjPbs-UD66x",
    "QOuoVEE0yWVO",
    "pgYUOZHGyatD",
    "5w4xoUmt_Xn0",
    "UtcsSOvRCOwK"
   ],
   "name": "Team4_FinalReport.ipynb",
   "provenance": [
    {
     "file_id": "1KkYqn5uNwOZXFdiHhMzVOXsG9it34HdN",
     "timestamp": 1652245154317
    }
   ]
  },
  "kernelspec": {
   "display_name": "Python 3 (ipykernel)",
   "language": "python",
   "name": "python3"
  },
  "language_info": {
   "codemirror_mode": {
    "name": "ipython",
    "version": 3
   },
   "file_extension": ".py",
   "mimetype": "text/x-python",
   "name": "python",
   "nbconvert_exporter": "python",
   "pygments_lexer": "ipython3",
   "version": "3.8.10"
  }
 },
 "nbformat": 4,
 "nbformat_minor": 1
}
