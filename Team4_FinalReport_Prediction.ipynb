{
 "cells": [
  {
   "cell_type": "markdown",
   "metadata": {
    "id": "1c6Xg63-HFp3"
   },
   "source": [
    "## Golden wind in r/WallStreetBets\n",
    "\n",
    "* Modeling & Prediction of r/WallStreetBets Research Project Phase 3\n",
    "* Team 4\n",
    "* Jiashuo Sun, Anqi Fang, Raymond Su\n",
    "* Research Questions attempted in this notebook:\n",
    "1.   Characteristics of popular submissions\n",
    "2.   Predict what kind of submission will get popular on subreddit r/WallStreetBets?\n",
    "\n",
    "**This is a note book for part 6 and 7 of our analysis - Characteristics of popular submissions and Prediction. We will be using word cloud and interactive visualization to show the result.**"
   ]
  },
  {
   "cell_type": "code",
   "execution_count": null,
   "metadata": {
    "id": "wlojNka8z944"
   },
   "outputs": [],
   "source": [
    "# !pip install vaderSentiment"
   ]
  },
  {
   "cell_type": "code",
   "execution_count": null,
   "metadata": {
    "id": "HCRyxFYM6GgA"
   },
   "outputs": [],
   "source": [
    "#Import library that that needed for modeling and analysis\n",
    "import pandas as pd\n",
    "import numpy as np\n",
    "from datetime import datetime\n",
    "from numpy.random import seed\n",
    "from collections import Counter\n",
    "import matplotlib.pyplot as plt\n",
    "import seaborn as sns\n",
    "import nltk, re, json, io\n",
    "from nltk.tokenize import word_tokenize,RegexpTokenizer\n",
    "from nltk.corpus import stopwords\n",
    "from nltk.stem import PorterStemmer\n",
    "from sklearn.feature_extraction.text import TfidfTransformer, CountVectorizer, TfidfVectorizer\n",
    "from vaderSentiment.vaderSentiment import SentimentIntensityAnalyzer\n",
    "from textblob import TextBlob\n",
    "from sklearn.model_selection import train_test_split, GridSearchCV, cross_val_score\n",
    "from sklearn.linear_model import LogisticRegression\n",
    "from sklearn.ensemble import RandomForestClassifier\n",
    "from sklearn.neural_network import MLPClassifier\n",
    "from sklearn.metrics import accuracy_score, confusion_matrix, f1_score\n",
    "import xgboost as xgb"
   ]
  },
  {
   "cell_type": "code",
   "execution_count": null,
   "metadata": {
    "colab": {
     "base_uri": "https://localhost:8080/"
    },
    "executionInfo": {
     "elapsed": 16421,
     "status": "ok",
     "timestamp": 1653884185674,
     "user": {
      "displayName": "Jiashuo Sun",
      "userId": "04199336118403268685"
     },
     "user_tz": 420
    },
    "id": "IfNFFWVH64f8",
    "outputId": "9c88f467-8655-4cb4-a25a-e1336c85fd4c"
   },
   "outputs": [
    {
     "name": "stdout",
     "output_type": "stream",
     "text": [
      "Mounted at /content/drive\n"
     ]
    }
   ],
   "source": [
    "from google.colab import drive\n",
    "drive.mount('/content/drive')"
   ]
  },
  {
   "cell_type": "markdown",
   "metadata": {
    "id": "ZpItQqTUn-dE"
   },
   "source": [
    "# Analysis from Post/Submission Perspectives\n",
    "\n",
    "---\n",
    "\n",
    "* At the beginning of this project, our final goal is to find out a way to predict social media event like GameStop in 2021. This question is very broad and hard, so we think it might be a good idea to begin from predicting popular submission as the first step. If we are able to predict whether a post will become popular, then we might be able to monitor the popular submissions in a certain period of time. If some topics or discussions happen quite frequently in the predicted popular submissions and the frequency exceeds certain threshold, this might be the signal for a major event or hot topic emerging.\n",
    "* To predict which submissions are going to get popular, the first step is to analyze the main characteristics of the popular submissions, and then we will try to predict whether a new submission will get popular or not. "
   ]
  },
  {
   "cell_type": "code",
   "execution_count": null,
   "metadata": {
    "id": "mFQasMkHllt0"
   },
   "outputs": [],
   "source": [
    "df = pd.read_csv(\"./drive/MyDrive/Colab Notebooks/cleaned_submissions.csv\")"
   ]
  },
  {
   "cell_type": "code",
   "execution_count": null,
   "metadata": {
    "colab": {
     "base_uri": "https://localhost:8080/"
    },
    "executionInfo": {
     "elapsed": 6,
     "status": "ok",
     "timestamp": 1653693545931,
     "user": {
      "displayName": "Jiashuo Sun",
      "userId": "04199336118403268685"
     },
     "user_tz": 420
    },
    "id": "6qpgwUGSl8mE",
    "outputId": "c75174d0-a3d0-40ee-ae35-6bce12889112"
   },
   "outputs": [
    {
     "data": {
      "text/plain": [
       "(66457, 13)"
      ]
     },
     "execution_count": 7,
     "metadata": {},
     "output_type": "execute_result"
    }
   ],
   "source": [
    "df.shape"
   ]
  },
  {
   "cell_type": "code",
   "execution_count": null,
   "metadata": {
    "colab": {
     "base_uri": "https://localhost:8080/"
    },
    "executionInfo": {
     "elapsed": 151,
     "status": "ok",
     "timestamp": 1653693547267,
     "user": {
      "displayName": "Jiashuo Sun",
      "userId": "04199336118403268685"
     },
     "user_tz": 420
    },
    "id": "Sidc_pjG4KHT",
    "outputId": "64f66d5f-42a4-406a-d29d-4f2ab9e131c1"
   },
   "outputs": [
    {
     "data": {
      "text/plain": [
       "author             0\n",
       "created_utc        0\n",
       "id                 0\n",
       "num_comments       0\n",
       "score              0\n",
       "selftext           0\n",
       "title              0\n",
       "upvote_ratio       0\n",
       "created            0\n",
       "timestamp          0\n",
       "date               0\n",
       "cleaned_text    1275\n",
       "tokened_text       0\n",
       "dtype: int64"
      ]
     },
     "execution_count": 8,
     "metadata": {},
     "output_type": "execute_result"
    }
   ],
   "source": [
    "df.isnull().sum()"
   ]
  },
  {
   "cell_type": "code",
   "execution_count": null,
   "metadata": {
    "id": "m8xEmrn34LRX"
   },
   "outputs": [],
   "source": [
    "df = df[df.cleaned_text.notnull()]"
   ]
  },
  {
   "cell_type": "markdown",
   "metadata": {
    "id": "dL_XvhEdscuT"
   },
   "source": [
    "### Define \"Popular\""
   ]
  },
  {
   "cell_type": "markdown",
   "metadata": {
    "id": "VnE2bNzxtbqV"
   },
   "source": [
    "* We want to define what is considered as \"popular\". There are two requirements: upvote ratio and number of total votes (score). We want the upvote ratio to be high, and at the same time, we want the number of total votes to be high as well. With these two requirements satisfied, we can exclude those with very few number of votes but a high upvote ratio (e.g. those with only 1 or 2 votes but all votes are upvotes).\n",
    "* From the distribution of scores below, we can find that majority of the submissions have scores under 50. So let's set the threshold to be 50 for now, and modify it in the future if necessary.\n",
    "* Since the proportion of submissions with scores over 50 is very low, we want to keep as much these submissions as possible, otherwise the labels would be more imbalanced. From the distribution of upvote ratios for submissions with over 50 scores, we can find that majority of the ratios is over 0.8, so let's set the upvote ratio threshold to be 0.8."
   ]
  },
  {
   "cell_type": "code",
   "execution_count": null,
   "metadata": {
    "id": "VUCrm_KgulRZ"
   },
   "outputs": [],
   "source": [
    "scores = df.score\n",
    "# comments  = df.num_comments"
   ]
  },
  {
   "cell_type": "code",
   "execution_count": null,
   "metadata": {
    "colab": {
     "base_uri": "https://localhost:8080/",
     "height": 296
    },
    "executionInfo": {
     "elapsed": 243,
     "status": "ok",
     "timestamp": 1653693552509,
     "user": {
      "displayName": "Jiashuo Sun",
      "userId": "04199336118403268685"
     },
     "user_tz": 420
    },
    "id": "5Sn_qf_al8os",
    "outputId": "1d31dcce-7dec-4eac-df0c-4b175641a825"
   },
   "outputs": [
    {
     "data": {
      "text/plain": [
       "Text(0.5, 0, 'Score')"
      ]
     },
     "execution_count": 11,
     "metadata": {},
     "output_type": "execute_result"
    },
    {
     "data": {
      "image/png": "[encoded data removed]",
      "text/plain": [
       "<Figure size 432x288 with 1 Axes>"
      ]
     },
     "metadata": {
      "needs_background": "light"
     },
     "output_type": "display_data"
    }
   ],
   "source": [
    "%matplotlib inline\n",
    "\n",
    "# the full range is too large that we cannot clearly see how the small scores are distributed\n",
    "plt.hist(scores, density=True, bins=40)\n",
    "plt.ylabel('Density')\n",
    "plt.xlabel('Score')"
   ]
  },
  {
   "cell_type": "code",
   "execution_count": null,
   "metadata": {
    "colab": {
     "base_uri": "https://localhost:8080/",
     "height": 296
    },
    "executionInfo": {
     "elapsed": 221,
     "status": "ok",
     "timestamp": 1653693554516,
     "user": {
      "displayName": "Jiashuo Sun",
      "userId": "04199336118403268685"
     },
     "user_tz": 420
    },
    "id": "BuqlNw3Ql8rs",
    "outputId": "c84a3814-c5a4-4104-e089-c4923f262445"
   },
   "outputs": [
    {
     "data": {
      "text/plain": [
       "Text(0.5, 0, 'Score')"
      ]
     },
     "execution_count": 12,
     "metadata": {},
     "output_type": "execute_result"
    },
    {
     "data": {
      "image/png": "[encoded data removed]",
      "text/plain": [
       "<Figure size 432x288 with 1 Axes>"
      ]
     },
     "metadata": {
      "needs_background": "light"
     },
     "output_type": "display_data"
    }
   ],
   "source": [
    "# We shortened the range to (0, 200)\n",
    "plt.hist(scores, density=True, bins=40, range = (0,  200))\n",
    "plt.ylabel('Density')\n",
    "plt.xlabel('Score')"
   ]
  },
  {
   "cell_type": "code",
   "execution_count": null,
   "metadata": {
    "colab": {
     "base_uri": "https://localhost:8080/"
    },
    "executionInfo": {
     "elapsed": 165,
     "status": "ok",
     "timestamp": 1653693556892,
     "user": {
      "displayName": "Jiashuo Sun",
      "userId": "04199336118403268685"
     },
     "user_tz": 420
    },
    "id": "YYv3P6izl8vQ",
    "outputId": "61f63aaf-66d7-4142-c2b3-3310fb0c488a"
   },
   "outputs": [
    {
     "data": {
      "text/plain": [
       "(2740, 13)"
      ]
     },
     "execution_count": 13,
     "metadata": {},
     "output_type": "execute_result"
    }
   ],
   "source": [
    "# let's set the threshold to be 50, and check the number of posts with scores over 50\n",
    "df[df.score >= 50].shape"
   ]
  },
  {
   "cell_type": "code",
   "execution_count": null,
   "metadata": {
    "colab": {
     "base_uri": "https://localhost:8080/"
    },
    "executionInfo": {
     "elapsed": 7,
     "status": "ok",
     "timestamp": 1653693557634,
     "user": {
      "displayName": "Jiashuo Sun",
      "userId": "04199336118403268685"
     },
     "user_tz": 420
    },
    "id": "crvAIHRDWUjP",
    "outputId": "a5bc6813-ff57-4483-8c53-ffec61a69af4"
   },
   "outputs": [
    {
     "data": {
      "text/plain": [
       "0.04203614494799178"
      ]
     },
     "execution_count": 14,
     "metadata": {},
     "output_type": "execute_result"
    }
   ],
   "source": [
    "# the ratio of posts with scores over 50\n",
    "df[df.score >= 50].shape[0] / df.shape[0]"
   ]
  },
  {
   "cell_type": "code",
   "execution_count": null,
   "metadata": {
    "id": "SE7nXsySr1t_"
   },
   "outputs": [],
   "source": [
    "ratios = df[df.score >= 50].upvote_ratio"
   ]
  },
  {
   "cell_type": "code",
   "execution_count": null,
   "metadata": {
    "colab": {
     "base_uri": "https://localhost:8080/",
     "height": 296
    },
    "executionInfo": {
     "elapsed": 248,
     "status": "ok",
     "timestamp": 1653693559962,
     "user": {
      "displayName": "Jiashuo Sun",
      "userId": "04199336118403268685"
     },
     "user_tz": 420
    },
    "id": "rDOEXPqFu5tC",
    "outputId": "adb1ac6e-1392-4c78-b67e-3a2d5f7a5dc8"
   },
   "outputs": [
    {
     "data": {
      "text/plain": [
       "Text(0.5, 0, 'Ratios')"
      ]
     },
     "execution_count": 16,
     "metadata": {},
     "output_type": "execute_result"
    },
    {
     "data": {
      "image/png": "[encoded data removed]",
      "text/plain": [
       "<Figure size 432x288 with 1 Axes>"
      ]
     },
     "metadata": {
      "needs_background": "light"
     },
     "output_type": "display_data"
    }
   ],
   "source": [
    "plt.hist(ratios, density=True, bins=40)  # density=False would make counts\n",
    "plt.ylabel('Density')\n",
    "plt.xlabel('Ratios')"
   ]
  },
  {
   "cell_type": "code",
   "execution_count": null,
   "metadata": {
    "id": "9ma56Uvmv9SW"
   },
   "outputs": [],
   "source": [
    "df['pop_or_not'] = np.where((df['score'] >= 50) & (df.upvote_ratio >= 0.8), 1, 0)"
   ]
  },
  {
   "cell_type": "code",
   "execution_count": null,
   "metadata": {
    "colab": {
     "base_uri": "https://localhost:8080/"
    },
    "executionInfo": {
     "elapsed": 6,
     "status": "ok",
     "timestamp": 1653790573247,
     "user": {
      "displayName": "Jiashuo Sun",
      "userId": "04199336118403268685"
     },
     "user_tz": 420
    },
    "id": "j1r-ygD1q8Rb",
    "outputId": "b56118a6-4946-48b0-c75b-db27fff51895"
   },
   "outputs": [
    {
     "data": {
      "text/plain": [
       "(2434, 14)"
      ]
     },
     "execution_count": 8,
     "metadata": {},
     "output_type": "execute_result"
    }
   ],
   "source": [
    "df[df.pop_or_not == 1].shape"
   ]
  },
  {
   "cell_type": "code",
   "execution_count": null,
   "metadata": {
    "colab": {
     "base_uri": "https://localhost:8080/"
    },
    "executionInfo": {
     "elapsed": 8,
     "status": "ok",
     "timestamp": 1653790573608,
     "user": {
      "displayName": "Jiashuo Sun",
      "userId": "04199336118403268685"
     },
     "user_tz": 420
    },
    "id": "HdsPE3jfs2Sw",
    "outputId": "09086127-9d71-4c70-f014-53727dc92d66"
   },
   "outputs": [
    {
     "data": {
      "text/plain": [
       "(62748, 14)"
      ]
     },
     "execution_count": 9,
     "metadata": {},
     "output_type": "execute_result"
    }
   ],
   "source": [
    "df[df.pop_or_not == 0].shape"
   ]
  },
  {
   "cell_type": "markdown",
   "metadata": {
    "id": "ejeGjXdllxwe"
   },
   "source": [
    "## Part 6: Characteristics of the popular submissions\n",
    "\n",
    "---\n",
    "\n",
    "* Firstly, we will compare the most frequent tokens of popular submissions and unpopular submissions. The most frequent tokens will be calculated by two methods:\n",
    "  *   Term Frequency: counting the number of occurence\n",
    "  *   TF-IDF: the raw term frequency, times the inverse document frequency\n",
    "* Secondly, I will calculate the sentiment score and subjectivity score of the popular submissions and unpopular submissions, and compare the two sets of submissions\n",
    "\n"
   ]
  },
  {
   "cell_type": "markdown",
   "metadata": {
    "id": "Vv3FQnZU_WWL"
   },
   "source": [
    "#### Frequent tokens by Term Frequency"
   ]
  },
  {
   "cell_type": "code",
   "execution_count": null,
   "metadata": {
    "colab": {
     "base_uri": "https://localhost:8080/",
     "height": 249
    },
    "executionInfo": {
     "elapsed": 14,
     "status": "ok",
     "timestamp": 1653693566406,
     "user": {
      "displayName": "Jiashuo Sun",
      "userId": "04199336118403268685"
     },
     "user_tz": 420
    },
    "id": "XE13zPOEth0t",
    "outputId": "06a8ae5f-4067-4d95-cae1-5fab2f5b88b2"
   },
   "outputs": [
    {
     "data": {
      "text/html": [
       "\n",
       "  <div id=\"df-c6c2364d-817c-48c0-8d60-212c3597ad3a\">\n",
       "    <div class=\"colab-df-container\">\n",
       "      <div>\n",
       "<style scoped>\n",
       "    .dataframe tbody tr th:only-of-type {\n",
       "        vertical-align: middle;\n",
       "    }\n",
       "\n",
       "    .dataframe tbody tr th {\n",
       "        vertical-align: top;\n",
       "    }\n",
       "\n",
       "    .dataframe thead th {\n",
       "        text-align: right;\n",
       "    }\n",
       "</style>\n",
       "<table border=\"1\" class=\"dataframe\">\n",
       "  <thead>\n",
       "    <tr style=\"text-align: right;\">\n",
       "      <th></th>\n",
       "      <th>author</th>\n",
       "      <th>created_utc</th>\n",
       "      <th>id</th>\n",
       "      <th>num_comments</th>\n",
       "      <th>score</th>\n",
       "      <th>selftext</th>\n",
       "      <th>title</th>\n",
       "      <th>upvote_ratio</th>\n",
       "      <th>created</th>\n",
       "      <th>timestamp</th>\n",
       "      <th>date</th>\n",
       "      <th>cleaned_text</th>\n",
       "      <th>tokened_text</th>\n",
       "      <th>pop_or_not</th>\n",
       "    </tr>\n",
       "  </thead>\n",
       "  <tbody>\n",
       "    <tr>\n",
       "      <th>0</th>\n",
       "      <td>Zckary</td>\n",
       "      <td>1607414431</td>\n",
       "      <td>k90ai4</td>\n",
       "      <td>3</td>\n",
       "      <td>1</td>\n",
       "      <td>19 year old college student in debt looking fo...</td>\n",
       "      <td>SERIOUS INQUIRIES ONLY</td>\n",
       "      <td>1.0</td>\n",
       "      <td>1.607440e+09</td>\n",
       "      <td>2020-12-08 15:00:31</td>\n",
       "      <td>2020-12-08</td>\n",
       "      <td>year old college student debt looking way will...</td>\n",
       "      <td>['year', 'old', 'college', 'student', 'debt', ...</td>\n",
       "      <td>0</td>\n",
       "    </tr>\n",
       "  </tbody>\n",
       "</table>\n",
       "</div>\n",
       "      <button class=\"colab-df-convert\" onclick=\"convertToInteractive('df-c6c2364d-817c-48c0-8d60-212c3597ad3a')\"\n",
       "              title=\"Convert this dataframe to an interactive table.\"\n",
       "              style=\"display:none;\">\n",
       "        \n",
       "  <svg xmlns=\"http://www.w3.org/2000/svg\" height=\"24px\"viewBox=\"0 0 24 24\"\n",
       "       width=\"24px\">\n",
       "    <path d=\"M0 0h24v24H0V0z\" fill=\"none\"/>\n",
       "    <path d=\"M18.56 5.44l.94 2.06.94-2.06 2.06-.94-2.06-.94-.94-2.06-.94 2.06-2.06.94zm-11 1L8.5 8.5l.94-2.06 2.06-.94-2.06-.94L8.5 2.5l-.94 2.06-2.06.94zm10 10l.94 2.06.94-2.06 2.06-.94-2.06-.94-.94-2.06-.94 2.06-2.06.94z\"/><path d=\"M17.41 7.96l-1.37-1.37c-.4-.4-.92-.59-1.43-.59-.52 0-1.04.2-1.43.59L10.3 9.45l-7.72 7.72c-.78.78-.78 2.05 0 2.83L4 21.41c.39.39.9.59 1.41.59.51 0 1.02-.2 1.41-.59l7.78-7.78 2.81-2.81c.8-.78.8-2.07 0-2.86zM5.41 20L4 18.59l7.72-7.72 1.47 1.35L5.41 20z\"/>\n",
       "  </svg>\n",
       "      </button>\n",
       "      \n",
       "  <style>\n",
       "    .colab-df-container {\n",
       "      display:flex;\n",
       "      flex-wrap:wrap;\n",
       "      gap: 12px;\n",
       "    }\n",
       "\n",
       "    .colab-df-convert {\n",
       "      background-color: #E8F0FE;\n",
       "      border: none;\n",
       "      border-radius: 50%;\n",
       "      cursor: pointer;\n",
       "      display: none;\n",
       "      fill: #1967D2;\n",
       "      height: 32px;\n",
       "      padding: 0 0 0 0;\n",
       "      width: 32px;\n",
       "    }\n",
       "\n",
       "    .colab-df-convert:hover {\n",
       "      background-color: #E2EBFA;\n",
       "      box-shadow: 0px 1px 2px rgba(60, 64, 67, 0.3), 0px 1px 3px 1px rgba(60, 64, 67, 0.15);\n",
       "      fill: #174EA6;\n",
       "    }\n",
       "\n",
       "    [theme=dark] .colab-df-convert {\n",
       "      background-color: #3B4455;\n",
       "      fill: #D2E3FC;\n",
       "    }\n",
       "\n",
       "    [theme=dark] .colab-df-convert:hover {\n",
       "      background-color: #434B5C;\n",
       "      box-shadow: 0px 1px 3px 1px rgba(0, 0, 0, 0.15);\n",
       "      filter: drop-shadow(0px 1px 2px rgba(0, 0, 0, 0.3));\n",
       "      fill: #FFFFFF;\n",
       "    }\n",
       "  </style>\n",
       "\n",
       "      <script>\n",
       "        const buttonEl =\n",
       "          document.querySelector('#df-c6c2364d-817c-48c0-8d60-212c3597ad3a button.colab-df-convert');\n",
       "        buttonEl.style.display =\n",
       "          google.colab.kernel.accessAllowed ? 'block' : 'none';\n",
       "\n",
       "        async function convertToInteractive(key) {\n",
       "          const element = document.querySelector('#df-c6c2364d-817c-48c0-8d60-212c3597ad3a');\n",
       "          const dataTable =\n",
       "            await google.colab.kernel.invokeFunction('convertToInteractive',\n",
       "                                                     [key], {});\n",
       "          if (!dataTable) return;\n",
       "\n",
       "          const docLinkHtml = 'Like what you see? Visit the ' +\n",
       "            '<a target=\"_blank\" href=https://colab.research.google.com/notebooks/data_table.ipynb>data table notebook</a>'\n",
       "            + ' to learn more about interactive tables.';\n",
       "          element.innerHTML = '';\n",
       "          dataTable['output_type'] = 'display_data';\n",
       "          await google.colab.output.renderOutput(dataTable, element);\n",
       "          const docLink = document.createElement('div');\n",
       "          docLink.innerHTML = docLinkHtml;\n",
       "          element.appendChild(docLink);\n",
       "        }\n",
       "      </script>\n",
       "    </div>\n",
       "  </div>\n",
       "  "
      ],
      "text/plain": [
       "   author  created_utc      id  num_comments  score  \\\n",
       "0  Zckary   1607414431  k90ai4             3      1   \n",
       "\n",
       "                                            selftext                   title  \\\n",
       "0  19 year old college student in debt looking fo...  SERIOUS INQUIRIES ONLY   \n",
       "\n",
       "   upvote_ratio       created            timestamp        date  \\\n",
       "0           1.0  1.607440e+09  2020-12-08 15:00:31  2020-12-08   \n",
       "\n",
       "                                        cleaned_text  \\\n",
       "0  year old college student debt looking way will...   \n",
       "\n",
       "                                        tokened_text  pop_or_not  \n",
       "0  ['year', 'old', 'college', 'student', 'debt', ...           0  "
      ]
     },
     "execution_count": 20,
     "metadata": {},
     "output_type": "execute_result"
    }
   ],
   "source": [
    "df.head(1)"
   ]
  },
  {
   "cell_type": "code",
   "execution_count": null,
   "metadata": {
    "id": "LqmLkYSm2wW8"
   },
   "outputs": [],
   "source": [
    "# convert the dataframe column to list\n",
    "pop_txt = df[df.pop_or_not == 1].cleaned_text.to_list()\n",
    "unpop_txt = df[df.pop_or_not == 0].cleaned_text.to_list()"
   ]
  },
  {
   "cell_type": "code",
   "execution_count": null,
   "metadata": {
    "id": "JHWpxsOY5pf4"
   },
   "outputs": [],
   "source": [
    "doc_list = [\" \".join(pop_txt), \" \".join(unpop_txt)]"
   ]
  },
  {
   "cell_type": "code",
   "execution_count": null,
   "metadata": {
    "colab": {
     "base_uri": "https://localhost:8080/"
    },
    "executionInfo": {
     "elapsed": 3127,
     "status": "ok",
     "timestamp": 1653884218340,
     "user": {
      "displayName": "Jiashuo Sun",
      "userId": "04199336118403268685"
     },
     "user_tz": 420
    },
    "id": "-N03a9W9qRGi",
    "outputId": "e0b775ba-0083-484f-d584-5c4343ed2d57"
   },
   "outputs": [
    {
     "data": {
      "text/plain": [
       "(2, 136529)"
      ]
     },
     "execution_count": 10,
     "metadata": {},
     "output_type": "execute_result"
    }
   ],
   "source": [
    "# calculate term frequency by CountVectorizer\n",
    "# first instantiate CountVectorizer object and the also removing stopwords here\n",
    "cv = CountVectorizer(stop_words='english') \n",
    "data_cv = cv.fit_transform(doc_list)\n",
    "data_array = data_cv.toarray()\n",
    "data_array.shape"
   ]
  },
  {
   "cell_type": "code",
   "execution_count": null,
   "metadata": {
    "id": "GzFNkRP8qRLR"
   },
   "outputs": [],
   "source": [
    "all_features = cv.get_feature_names_out()"
   ]
  },
  {
   "cell_type": "code",
   "execution_count": null,
   "metadata": {
    "colab": {
     "base_uri": "https://localhost:8080/"
    },
    "executionInfo": {
     "elapsed": 153,
     "status": "ok",
     "timestamp": 1653884220051,
     "user": {
      "displayName": "Jiashuo Sun",
      "userId": "04199336118403268685"
     },
     "user_tz": 420
    },
    "id": "6I5hziUAqRQX",
    "outputId": "1dfbc509-98cd-4b02-aacd-02121097ad3e"
   },
   "outputs": [
    {
     "data": {
      "text/plain": [
       "136529"
      ]
     },
     "execution_count": 12,
     "metadata": {},
     "output_type": "execute_result"
    }
   ],
   "source": [
    "len(all_features)"
   ]
  },
  {
   "cell_type": "code",
   "execution_count": null,
   "metadata": {
    "colab": {
     "base_uri": "https://localhost:8080/",
     "height": 206
    },
    "executionInfo": {
     "elapsed": 165,
     "status": "ok",
     "timestamp": 1653884221843,
     "user": {
      "displayName": "Jiashuo Sun",
      "userId": "04199336118403268685"
     },
     "user_tz": 420
    },
    "id": "QmMm6gsnqRSq",
    "outputId": "6cdbd4c1-1666-4b18-bfa9-fab0f26ee1fe"
   },
   "outputs": [
    {
     "data": {
      "text/html": [
       "\n",
       "  <div id=\"df-eb1403b4-2047-4102-8019-a0bd7485ce45\">\n",
       "    <div class=\"colab-df-container\">\n",
       "      <div>\n",
       "<style scoped>\n",
       "    .dataframe tbody tr th:only-of-type {\n",
       "        vertical-align: middle;\n",
       "    }\n",
       "\n",
       "    .dataframe tbody tr th {\n",
       "        vertical-align: top;\n",
       "    }\n",
       "\n",
       "    .dataframe thead th {\n",
       "        text-align: right;\n",
       "    }\n",
       "</style>\n",
       "<table border=\"1\" class=\"dataframe\">\n",
       "  <thead>\n",
       "    <tr style=\"text-align: right;\">\n",
       "      <th></th>\n",
       "      <th>tokens</th>\n",
       "      <th>pop_cnt</th>\n",
       "      <th>unpop_cnt</th>\n",
       "    </tr>\n",
       "  </thead>\n",
       "  <tbody>\n",
       "    <tr>\n",
       "      <th>0</th>\n",
       "      <td>aa</td>\n",
       "      <td>3</td>\n",
       "      <td>29</td>\n",
       "    </tr>\n",
       "    <tr>\n",
       "      <th>1</th>\n",
       "      <td>aaa</td>\n",
       "      <td>1</td>\n",
       "      <td>10</td>\n",
       "    </tr>\n",
       "    <tr>\n",
       "      <th>2</th>\n",
       "      <td>aaaa</td>\n",
       "      <td>0</td>\n",
       "      <td>1</td>\n",
       "    </tr>\n",
       "    <tr>\n",
       "      <th>3</th>\n",
       "      <td>aaaaa</td>\n",
       "      <td>0</td>\n",
       "      <td>1</td>\n",
       "    </tr>\n",
       "    <tr>\n",
       "      <th>4</th>\n",
       "      <td>aaaaaa</td>\n",
       "      <td>0</td>\n",
       "      <td>1</td>\n",
       "    </tr>\n",
       "  </tbody>\n",
       "</table>\n",
       "</div>\n",
       "      <button class=\"colab-df-convert\" onclick=\"convertToInteractive('df-eb1403b4-2047-4102-8019-a0bd7485ce45')\"\n",
       "              title=\"Convert this dataframe to an interactive table.\"\n",
       "              style=\"display:none;\">\n",
       "        \n",
       "  <svg xmlns=\"http://www.w3.org/2000/svg\" height=\"24px\"viewBox=\"0 0 24 24\"\n",
       "       width=\"24px\">\n",
       "    <path d=\"M0 0h24v24H0V0z\" fill=\"none\"/>\n",
       "    <path d=\"M18.56 5.44l.94 2.06.94-2.06 2.06-.94-2.06-.94-.94-2.06-.94 2.06-2.06.94zm-11 1L8.5 8.5l.94-2.06 2.06-.94-2.06-.94L8.5 2.5l-.94 2.06-2.06.94zm10 10l.94 2.06.94-2.06 2.06-.94-2.06-.94-.94-2.06-.94 2.06-2.06.94z\"/><path d=\"M17.41 7.96l-1.37-1.37c-.4-.4-.92-.59-1.43-.59-.52 0-1.04.2-1.43.59L10.3 9.45l-7.72 7.72c-.78.78-.78 2.05 0 2.83L4 21.41c.39.39.9.59 1.41.59.51 0 1.02-.2 1.41-.59l7.78-7.78 2.81-2.81c.8-.78.8-2.07 0-2.86zM5.41 20L4 18.59l7.72-7.72 1.47 1.35L5.41 20z\"/>\n",
       "  </svg>\n",
       "      </button>\n",
       "      \n",
       "  <style>\n",
       "    .colab-df-container {\n",
       "      display:flex;\n",
       "      flex-wrap:wrap;\n",
       "      gap: 12px;\n",
       "    }\n",
       "\n",
       "    .colab-df-convert {\n",
       "      background-color: #E8F0FE;\n",
       "      border: none;\n",
       "      border-radius: 50%;\n",
       "      cursor: pointer;\n",
       "      display: none;\n",
       "      fill: #1967D2;\n",
       "      height: 32px;\n",
       "      padding: 0 0 0 0;\n",
       "      width: 32px;\n",
       "    }\n",
       "\n",
       "    .colab-df-convert:hover {\n",
       "      background-color: #E2EBFA;\n",
       "      box-shadow: 0px 1px 2px rgba(60, 64, 67, 0.3), 0px 1px 3px 1px rgba(60, 64, 67, 0.15);\n",
       "      fill: #174EA6;\n",
       "    }\n",
       "\n",
       "    [theme=dark] .colab-df-convert {\n",
       "      background-color: #3B4455;\n",
       "      fill: #D2E3FC;\n",
       "    }\n",
       "\n",
       "    [theme=dark] .colab-df-convert:hover {\n",
       "      background-color: #434B5C;\n",
       "      box-shadow: 0px 1px 3px 1px rgba(0, 0, 0, 0.15);\n",
       "      filter: drop-shadow(0px 1px 2px rgba(0, 0, 0, 0.3));\n",
       "      fill: #FFFFFF;\n",
       "    }\n",
       "  </style>\n",
       "\n",
       "      <script>\n",
       "        const buttonEl =\n",
       "          document.querySelector('#df-eb1403b4-2047-4102-8019-a0bd7485ce45 button.colab-df-convert');\n",
       "        buttonEl.style.display =\n",
       "          google.colab.kernel.accessAllowed ? 'block' : 'none';\n",
       "\n",
       "        async function convertToInteractive(key) {\n",
       "          const element = document.querySelector('#df-eb1403b4-2047-4102-8019-a0bd7485ce45');\n",
       "          const dataTable =\n",
       "            await google.colab.kernel.invokeFunction('convertToInteractive',\n",
       "                                                     [key], {});\n",
       "          if (!dataTable) return;\n",
       "\n",
       "          const docLinkHtml = 'Like what you see? Visit the ' +\n",
       "            '<a target=\"_blank\" href=https://colab.research.google.com/notebooks/data_table.ipynb>data table notebook</a>'\n",
       "            + ' to learn more about interactive tables.';\n",
       "          element.innerHTML = '';\n",
       "          dataTable['output_type'] = 'display_data';\n",
       "          await google.colab.output.renderOutput(dataTable, element);\n",
       "          const docLink = document.createElement('div');\n",
       "          docLink.innerHTML = docLinkHtml;\n",
       "          element.appendChild(docLink);\n",
       "        }\n",
       "      </script>\n",
       "    </div>\n",
       "  </div>\n",
       "  "
      ],
      "text/plain": [
       "   tokens  pop_cnt  unpop_cnt\n",
       "0      aa        3         29\n",
       "1     aaa        1         10\n",
       "2    aaaa        0          1\n",
       "3   aaaaa        0          1\n",
       "4  aaaaaa        0          1"
      ]
     },
     "execution_count": 13,
     "metadata": {},
     "output_type": "execute_result"
    }
   ],
   "source": [
    "cnt_vec = pd.DataFrame()\n",
    "cnt_vec['tokens'] = all_features\n",
    "cnt_vec['pop_cnt'] = data_array[0,:] #all countVectorizer features for popular submissions\n",
    "cnt_vec['unpop_cnt'] = data_array[1, :] #all countVectorizer features for unpopular submissions\n",
    "\n",
    "cnt_vec.head()"
   ]
  },
  {
   "cell_type": "code",
   "execution_count": null,
   "metadata": {
    "id": "vxDUeWQbqRVX"
   },
   "outputs": [],
   "source": [
    "pop_top50 = cnt_vec.sort_values(by=['pop_cnt'], ascending=False).head(50)\n",
    "unpop_top50 = cnt_vec.sort_values(by=['unpop_cnt'], ascending=False).head(50)"
   ]
  },
  {
   "cell_type": "code",
   "execution_count": null,
   "metadata": {
    "colab": {
     "base_uri": "https://localhost:8080/",
     "height": 255
    },
    "executionInfo": {
     "elapsed": 804,
     "status": "ok",
     "timestamp": 1653884226167,
     "user": {
      "displayName": "Jiashuo Sun",
      "userId": "04199336118403268685"
     },
     "user_tz": 420
    },
    "id": "uTCFSA02qRX9",
    "outputId": "f52aadbb-a1ae-4d57-fabd-509604ba1a29"
   },
   "outputs": [
    {
     "data": {
      "image/png": "[encoded data removed]",
      "text/plain": [
       "<Figure size 1440x216 with 1 Axes>"
      ]
     },
     "metadata": {
      "needs_background": "light"
     },
     "output_type": "display_data"
    }
   ],
   "source": [
    "plt.figure(figsize=(20,3))\n",
    "plt.bar(pop_top50.tokens, pop_top50.pop_cnt, data = pop_top50)\n",
    "plt.xticks(rotation = 45) # Rotates X-Axis Ticks by 45-degrees\n",
    "plt.title(\"top 50 tokens of popular submissions by Term Frequency\")\n",
    "plt.show()"
   ]
  },
  {
   "cell_type": "code",
   "execution_count": null,
   "metadata": {
    "colab": {
     "base_uri": "https://localhost:8080/",
     "height": 257
    },
    "executionInfo": {
     "elapsed": 881,
     "status": "ok",
     "timestamp": 1653884228110,
     "user": {
      "displayName": "Jiashuo Sun",
      "userId": "04199336118403268685"
     },
     "user_tz": 420
    },
    "id": "dUXpoL1pqRat",
    "outputId": "e9350cdd-b48d-4421-94e0-9d706b1b5828"
   },
   "outputs": [
    {
     "data": {
      "image/png": "[encoded data removed]",
      "text/plain": [
       "<Figure size 1440x216 with 1 Axes>"
      ]
     },
     "metadata": {
      "needs_background": "light"
     },
     "output_type": "display_data"
    }
   ],
   "source": [
    "plt.figure(figsize=(20,3))\n",
    "plt.bar(unpop_top50.tokens, unpop_top50.unpop_cnt, data = unpop_top50)\n",
    "plt.xticks(rotation = 45) # Rotates X-Axis Ticks by 45-degrees\n",
    "plt.title(\"top 50 tokens of unpopular submissions by Term Frequency\")\n",
    "plt.show()"
   ]
  },
  {
   "cell_type": "markdown",
   "metadata": {
    "id": "p1a0DxdOCLr9"
   },
   "source": [
    "* For popular submissions, there are more informative tokens and all tokens are proper languages. \n",
    "\n",
    "* While for unpopular submissions, there are less informative tokens and some of the most frequently seen tokens are taboo words like \"shit\", \"fuck\", etc and meaningless words like \"think\", \"want\", etc.\n",
    "\n",
    "\n",
    "\n"
   ]
  },
  {
   "cell_type": "markdown",
   "metadata": {
    "id": "kkQTEpsMBD3v"
   },
   "source": [
    "#### Frequent tokens by TF-IDF"
   ]
  },
  {
   "cell_type": "code",
   "execution_count": null,
   "metadata": {
    "colab": {
     "base_uri": "https://localhost:8080/"
    },
    "executionInfo": {
     "elapsed": 6927,
     "status": "ok",
     "timestamp": 1653277616862,
     "user": {
      "displayName": "Jiashuo Sun",
      "userId": "04199336118403268685"
     },
     "user_tz": 420
    },
    "id": "DhJ4maIQqRc1",
    "outputId": "e18591d6-1865-4244-f5c9-bc03edebb21b"
   },
   "outputs": [
    {
     "data": {
      "text/plain": [
       "(2, 136529)"
      ]
     },
     "execution_count": 107,
     "metadata": {},
     "output_type": "execute_result"
    }
   ],
   "source": [
    "# calculate TF-IDF by TfidfVectorizer\n",
    "# first instantiate TfidfVectorizer object and the also removing stopwords here\n",
    "tfidf = TfidfVectorizer(stop_words='english') \n",
    "data_tfidf = tfidf.fit_transform(doc_list)\n",
    "data_array2 = data_tfidf.toarray()\n",
    "data_array2.shape"
   ]
  },
  {
   "cell_type": "code",
   "execution_count": null,
   "metadata": {
    "id": "D235Scw2qRf3"
   },
   "outputs": [],
   "source": [
    "all_features = tfidf.get_feature_names_out()"
   ]
  },
  {
   "cell_type": "code",
   "execution_count": null,
   "metadata": {
    "colab": {
     "base_uri": "https://localhost:8080/",
     "height": 206
    },
    "executionInfo": {
     "elapsed": 153,
     "status": "ok",
     "timestamp": 1653278069079,
     "user": {
      "displayName": "Jiashuo Sun",
      "userId": "04199336118403268685"
     },
     "user_tz": 420
    },
    "id": "2K38XN7WqRiF",
    "outputId": "65aa9eb4-e6ab-403d-a3ac-764c8cc95e0f"
   },
   "outputs": [
    {
     "data": {
      "text/html": [
       "\n",
       "  <div id=\"df-c6881bb8-aea0-4cec-a934-f13ebdea27a5\">\n",
       "    <div class=\"colab-df-container\">\n",
       "      <div>\n",
       "<style scoped>\n",
       "    .dataframe tbody tr th:only-of-type {\n",
       "        vertical-align: middle;\n",
       "    }\n",
       "\n",
       "    .dataframe tbody tr th {\n",
       "        vertical-align: top;\n",
       "    }\n",
       "\n",
       "    .dataframe thead th {\n",
       "        text-align: right;\n",
       "    }\n",
       "</style>\n",
       "<table border=\"1\" class=\"dataframe\">\n",
       "  <thead>\n",
       "    <tr style=\"text-align: right;\">\n",
       "      <th></th>\n",
       "      <th>tokens</th>\n",
       "      <th>pop_tfidf</th>\n",
       "      <th>unpop_tfidf</th>\n",
       "    </tr>\n",
       "  </thead>\n",
       "  <tbody>\n",
       "    <tr>\n",
       "      <th>0</th>\n",
       "      <td>aa</td>\n",
       "      <td>0.000326</td>\n",
       "      <td>0.000346</td>\n",
       "    </tr>\n",
       "    <tr>\n",
       "      <th>1</th>\n",
       "      <td>aaa</td>\n",
       "      <td>0.000109</td>\n",
       "      <td>0.000119</td>\n",
       "    </tr>\n",
       "    <tr>\n",
       "      <th>2</th>\n",
       "      <td>aaaa</td>\n",
       "      <td>0.000000</td>\n",
       "      <td>0.000017</td>\n",
       "    </tr>\n",
       "    <tr>\n",
       "      <th>3</th>\n",
       "      <td>aaaaa</td>\n",
       "      <td>0.000000</td>\n",
       "      <td>0.000017</td>\n",
       "    </tr>\n",
       "    <tr>\n",
       "      <th>4</th>\n",
       "      <td>aaaaaa</td>\n",
       "      <td>0.000000</td>\n",
       "      <td>0.000017</td>\n",
       "    </tr>\n",
       "  </tbody>\n",
       "</table>\n",
       "</div>\n",
       "      <button class=\"colab-df-convert\" onclick=\"convertToInteractive('df-c6881bb8-aea0-4cec-a934-f13ebdea27a5')\"\n",
       "              title=\"Convert this dataframe to an interactive table.\"\n",
       "              style=\"display:none;\">\n",
       "        \n",
       "  <svg xmlns=\"http://www.w3.org/2000/svg\" height=\"24px\"viewBox=\"0 0 24 24\"\n",
       "       width=\"24px\">\n",
       "    <path d=\"M0 0h24v24H0V0z\" fill=\"none\"/>\n",
       "    <path d=\"M18.56 5.44l.94 2.06.94-2.06 2.06-.94-2.06-.94-.94-2.06-.94 2.06-2.06.94zm-11 1L8.5 8.5l.94-2.06 2.06-.94-2.06-.94L8.5 2.5l-.94 2.06-2.06.94zm10 10l.94 2.06.94-2.06 2.06-.94-2.06-.94-.94-2.06-.94 2.06-2.06.94z\"/><path d=\"M17.41 7.96l-1.37-1.37c-.4-.4-.92-.59-1.43-.59-.52 0-1.04.2-1.43.59L10.3 9.45l-7.72 7.72c-.78.78-.78 2.05 0 2.83L4 21.41c.39.39.9.59 1.41.59.51 0 1.02-.2 1.41-.59l7.78-7.78 2.81-2.81c.8-.78.8-2.07 0-2.86zM5.41 20L4 18.59l7.72-7.72 1.47 1.35L5.41 20z\"/>\n",
       "  </svg>\n",
       "      </button>\n",
       "      \n",
       "  <style>\n",
       "    .colab-df-container {\n",
       "      display:flex;\n",
       "      flex-wrap:wrap;\n",
       "      gap: 12px;\n",
       "    }\n",
       "\n",
       "    .colab-df-convert {\n",
       "      background-color: #E8F0FE;\n",
       "      border: none;\n",
       "      border-radius: 50%;\n",
       "      cursor: pointer;\n",
       "      display: none;\n",
       "      fill: #1967D2;\n",
       "      height: 32px;\n",
       "      padding: 0 0 0 0;\n",
       "      width: 32px;\n",
       "    }\n",
       "\n",
       "    .colab-df-convert:hover {\n",
       "      background-color: #E2EBFA;\n",
       "      box-shadow: 0px 1px 2px rgba(60, 64, 67, 0.3), 0px 1px 3px 1px rgba(60, 64, 67, 0.15);\n",
       "      fill: #174EA6;\n",
       "    }\n",
       "\n",
       "    [theme=dark] .colab-df-convert {\n",
       "      background-color: #3B4455;\n",
       "      fill: #D2E3FC;\n",
       "    }\n",
       "\n",
       "    [theme=dark] .colab-df-convert:hover {\n",
       "      background-color: #434B5C;\n",
       "      box-shadow: 0px 1px 3px 1px rgba(0, 0, 0, 0.15);\n",
       "      filter: drop-shadow(0px 1px 2px rgba(0, 0, 0, 0.3));\n",
       "      fill: #FFFFFF;\n",
       "    }\n",
       "  </style>\n",
       "\n",
       "      <script>\n",
       "        const buttonEl =\n",
       "          document.querySelector('#df-c6881bb8-aea0-4cec-a934-f13ebdea27a5 button.colab-df-convert');\n",
       "        buttonEl.style.display =\n",
       "          google.colab.kernel.accessAllowed ? 'block' : 'none';\n",
       "\n",
       "        async function convertToInteractive(key) {\n",
       "          const element = document.querySelector('#df-c6881bb8-aea0-4cec-a934-f13ebdea27a5');\n",
       "          const dataTable =\n",
       "            await google.colab.kernel.invokeFunction('convertToInteractive',\n",
       "                                                     [key], {});\n",
       "          if (!dataTable) return;\n",
       "\n",
       "          const docLinkHtml = 'Like what you see? Visit the ' +\n",
       "            '<a target=\"_blank\" href=https://colab.research.google.com/notebooks/data_table.ipynb>data table notebook</a>'\n",
       "            + ' to learn more about interactive tables.';\n",
       "          element.innerHTML = '';\n",
       "          dataTable['output_type'] = 'display_data';\n",
       "          await google.colab.output.renderOutput(dataTable, element);\n",
       "          const docLink = document.createElement('div');\n",
       "          docLink.innerHTML = docLinkHtml;\n",
       "          element.appendChild(docLink);\n",
       "        }\n",
       "      </script>\n",
       "    </div>\n",
       "  </div>\n",
       "  "
      ],
      "text/plain": [
       "   tokens  pop_tfidf  unpop_tfidf\n",
       "0      aa   0.000326     0.000346\n",
       "1     aaa   0.000109     0.000119\n",
       "2    aaaa   0.000000     0.000017\n",
       "3   aaaaa   0.000000     0.000017\n",
       "4  aaaaaa   0.000000     0.000017"
      ]
     },
     "execution_count": 110,
     "metadata": {},
     "output_type": "execute_result"
    }
   ],
   "source": [
    "tfidf_vec = pd.DataFrame()\n",
    "tfidf_vec['tokens'] = all_features\n",
    "tfidf_vec['pop_tfidf'] = data_array2[0,:] #all tf-idf features for popular submissions\n",
    "tfidf_vec['unpop_tfidf'] = data_array2[1, :] #all tf-idf features for unpopular submissions\n",
    "\n",
    "tfidf_vec.head()"
   ]
  },
  {
   "cell_type": "code",
   "execution_count": null,
   "metadata": {
    "id": "VuY0C9McqRkV"
   },
   "outputs": [],
   "source": [
    "pop_top50 = tfidf_vec.sort_values(by=['pop_tfidf'], ascending=False).head(50)\n",
    "unpop_top50 = tfidf_vec.sort_values(by=['unpop_tfidf'], ascending=False).head(50)"
   ]
  },
  {
   "cell_type": "code",
   "execution_count": null,
   "metadata": {
    "colab": {
     "base_uri": "https://localhost:8080/",
     "height": 256
    },
    "executionInfo": {
     "elapsed": 692,
     "status": "ok",
     "timestamp": 1653278183461,
     "user": {
      "displayName": "Jiashuo Sun",
      "userId": "04199336118403268685"
     },
     "user_tz": 420
    },
    "id": "ejzj9ckqqRnz",
    "outputId": "9cf34feb-af81-46b4-e0b0-2b777e019459"
   },
   "outputs": [
    {
     "data": {
      "image/png": "[encoded data removed]",
      "text/plain": [
       "<Figure size 1440x216 with 1 Axes>"
      ]
     },
     "metadata": {},
     "output_type": "display_data"
    }
   ],
   "source": [
    "plt.figure(figsize=(20,3))\n",
    "plt.bar(pop_top50.tokens, pop_top50.pop_tfidf, data = pop_top50)\n",
    "plt.xticks(rotation = 45) # Rotates X-Axis Ticks by 45-degrees\n",
    "plt.title(\"top 50 tokens of popular submissions by TF-IDF\")\n",
    "plt.show()"
   ]
  },
  {
   "cell_type": "code",
   "execution_count": null,
   "metadata": {
    "colab": {
     "base_uri": "https://localhost:8080/",
     "height": 279
    },
    "executionInfo": {
     "elapsed": 766,
     "status": "ok",
     "timestamp": 1653278206752,
     "user": {
      "displayName": "Jiashuo Sun",
      "userId": "04199336118403268685"
     },
     "user_tz": 420
    },
    "id": "qVDr9np5CAd7",
    "outputId": "14334e1c-dba1-4e47-94d7-13b08aeac1c4"
   },
   "outputs": [
    {
     "data": {
      "image/png": "[encoded data removed]",
      "text/plain": [
       "<Figure size 1440x216 with 1 Axes>"
      ]
     },
     "metadata": {},
     "output_type": "display_data"
    }
   ],
   "source": [
    "plt.figure(figsize=(20,3))\n",
    "plt.bar(unpop_top50.tokens, unpop_top50.unpop_tfidf, data = unpop_top50)\n",
    "plt.xticks(rotation = 45) # Rotates X-Axis Ticks by 45-degrees\n",
    "plt.title(\"top 50 tokens of unpopular submissions by TF-IDF\")\n",
    "plt.show()"
   ]
  },
  {
   "cell_type": "markdown",
   "metadata": {
    "id": "dAs64VtkD90I"
   },
   "source": [
    "* There are not too much differences in the lists of most frequent tokens found by raw term frequency and TF-IDF. Same observation holds here."
   ]
  },
  {
   "cell_type": "markdown",
   "metadata": {
    "id": "0RNbezr5EmaL"
   },
   "source": [
    "#### Sentiment and Subjectivity Scores"
   ]
  },
  {
   "cell_type": "code",
   "execution_count": null,
   "metadata": {
    "id": "CyvxAdXHEqoF"
   },
   "outputs": [],
   "source": [
    "textblob_sen_pop = []\n",
    "textblob_sub_pop = []\n",
    "\n",
    "for item in pop_txt:\n",
    "    blob = TextBlob(item)\n",
    "    textblob_sen_pop.append(blob.polarity)\n",
    "    textblob_sub_pop.append(blob.subjectivity)"
   ]
  },
  {
   "cell_type": "code",
   "execution_count": null,
   "metadata": {
    "id": "zKtBKPzsEqqi"
   },
   "outputs": [],
   "source": [
    "textblob_sen_unpop = []\n",
    "textblob_sub_unpop = []\n",
    "\n",
    "for item in unpop_txt:\n",
    "    blob = TextBlob(item)\n",
    "    textblob_sen_unpop.append(blob.polarity)\n",
    "    textblob_sub_unpop.append(blob.subjectivity)"
   ]
  },
  {
   "cell_type": "markdown",
   "metadata": {
    "id": "y2Qhp1jLHAIn"
   },
   "source": [
    "The sentiment score comparison:\n",
    "\n",
    "* Both popular and unpopular sentiment scores are approximately normally distributed\n",
    "* In general, popular submissions carry stronger sentiment than unpopular submissions, because most of the unpopular submissions are centered at 0 score, while popular submissions distribute more sparsely around [-0.25, 0.25]\n",
    "* This observation aligns with our pre-assumption, submissions carrying stronger sentiment have higher chance to become popular because they are appealing to users."
   ]
  },
  {
   "cell_type": "code",
   "execution_count": null,
   "metadata": {
    "colab": {
     "base_uri": "https://localhost:8080/",
     "height": 296
    },
    "executionInfo": {
     "elapsed": 784,
     "status": "ok",
     "timestamp": 1653278956994,
     "user": {
      "displayName": "Jiashuo Sun",
      "userId": "04199336118403268685"
     },
     "user_tz": 420
    },
    "id": "vjg5t4HJEqtF",
    "outputId": "a40c2ff2-e6b6-4a97-cd82-bec2b1f6ab26"
   },
   "outputs": [
    {
     "data": {
      "text/plain": [
       "Text(0.5, 0, 'Popular Submission Sentiment Score')"
      ]
     },
     "execution_count": 118,
     "metadata": {},
     "output_type": "execute_result"
    },
    {
     "data": {
      "image/png": "[encoded data removed]",
      "text/plain": [
       "<Figure size 432x288 with 1 Axes>"
      ]
     },
     "metadata": {},
     "output_type": "display_data"
    }
   ],
   "source": [
    "plt.hist(textblob_sen_pop, density=True, bins=40)  # density=False would make counts\n",
    "plt.ylabel('Density')\n",
    "plt.xlabel('Popular Submission Sentiment Score')"
   ]
  },
  {
   "cell_type": "code",
   "execution_count": null,
   "metadata": {
    "colab": {
     "base_uri": "https://localhost:8080/",
     "height": 299
    },
    "executionInfo": {
     "elapsed": 790,
     "status": "ok",
     "timestamp": 1653278985913,
     "user": {
      "displayName": "Jiashuo Sun",
      "userId": "04199336118403268685"
     },
     "user_tz": 420
    },
    "id": "IXGb95TeEqvv",
    "outputId": "29f6722c-7377-41a3-bbcd-f06003b4deb7"
   },
   "outputs": [
    {
     "data": {
      "text/plain": [
       "Text(0.5, 0, 'Unpopular Submission Sentiment Score')"
      ]
     },
     "execution_count": 119,
     "metadata": {},
     "output_type": "execute_result"
    },
    {
     "data": {
      "image/png": "[encoded data removed]",
      "text/plain": [
       "<Figure size 432x288 with 1 Axes>"
      ]
     },
     "metadata": {},
     "output_type": "display_data"
    }
   ],
   "source": [
    "plt.hist(textblob_sen_unpop, density=True, bins=40)  # density=False would make counts\n",
    "plt.ylabel('Density')\n",
    "plt.xlabel('Unpopular Submission Sentiment Score')"
   ]
  },
  {
   "cell_type": "markdown",
   "metadata": {
    "id": "A-VJ7lrNIrok"
   },
   "source": [
    "The subjectivity score comparison:\n",
    "\n",
    "*  Both distributions are interestingly bimodal, with a large proportion being very objective (0 subjectivity score), and the remaining being normally distributed.\n",
    "* Moreover, popular submissions are more subjective than unpopular submissions,  which is consistent with the sentiment score observation because in general content carrying stronger sentiment might be considered as more subjective, while content carrying weaker sentiment might be considered more objective."
   ]
  },
  {
   "cell_type": "code",
   "execution_count": null,
   "metadata": {
    "colab": {
     "base_uri": "https://localhost:8080/",
     "height": 296
    },
    "executionInfo": {
     "elapsed": 401,
     "status": "ok",
     "timestamp": 1653284862346,
     "user": {
      "displayName": "Jiashuo Sun",
      "userId": "04199336118403268685"
     },
     "user_tz": 420
    },
    "id": "unAmGTQpEqxv",
    "outputId": "a0d68de1-b4fe-43be-c8ab-173f10d87249"
   },
   "outputs": [
    {
     "data": {
      "text/plain": [
       "Text(0.5, 0, 'Popular Submission Subjectivity Score')"
      ]
     },
     "execution_count": 23,
     "metadata": {},
     "output_type": "execute_result"
    },
    {
     "data": {
      "image/png": "[encoded data removed]",
      "text/plain": [
       "<Figure size 432x288 with 1 Axes>"
      ]
     },
     "metadata": {},
     "output_type": "display_data"
    }
   ],
   "source": [
    "plt.hist(textblob_sub_pop, density=True, bins=40)  # density=False would make counts\n",
    "plt.ylabel('Density')\n",
    "plt.xlabel('Popular Submission Subjectivity Score')"
   ]
  },
  {
   "cell_type": "code",
   "execution_count": null,
   "metadata": {
    "colab": {
     "base_uri": "https://localhost:8080/",
     "height": 296
    },
    "executionInfo": {
     "elapsed": 392,
     "status": "ok",
     "timestamp": 1653284858448,
     "user": {
      "displayName": "Jiashuo Sun",
      "userId": "04199336118403268685"
     },
     "user_tz": 420
    },
    "id": "rpvvnzjUEq1S",
    "outputId": "07feda6c-c1e2-430e-ee71-d698ef3b05cc"
   },
   "outputs": [
    {
     "data": {
      "text/plain": [
       "Text(0.5, 0, 'Unpopular Submission Subjectivity Score')"
      ]
     },
     "execution_count": 22,
     "metadata": {},
     "output_type": "execute_result"
    },
    {
     "data": {
      "image/png": "[encoded data removed]",
      "text/plain": [
       "<Figure size 432x288 with 1 Axes>"
      ]
     },
     "metadata": {},
     "output_type": "display_data"
    }
   ],
   "source": [
    "plt.hist(textblob_sub_unpop, density=True, bins=40)  # density=False would make counts\n",
    "plt.ylabel('Density')\n",
    "plt.xlabel('Unpopular Submission Subjectivity Score')"
   ]
  },
  {
   "cell_type": "markdown",
   "metadata": {
    "id": "uB11hn6FKmzw"
   },
   "source": [
    "**In conclusion, contents of popular submissions carry stronger sentiment and the tones are more subjective. Furthermore, popular submissions use more informative words and less taboo words than unpopular submissions, which might be related to the reccomendation mechanism of the Reddit forum.**\n",
    "\n",
    "\n"
   ]
  },
  {
   "cell_type": "markdown",
   "metadata": {
    "id": "y9gGKM1_qSTH"
   },
   "source": [
    "## Part 7: Predict what kind of submission will get popular on subreddit r/WallStreetBets?\n",
    "---\n",
    "\n",
    "* We are going to use the TF-IDF matrix plus sentiment and subjectivity scores as the input to classification models.\n",
    "* We are going to try logistic regression, random forest classifier and XGBoost classifier. Logistic regression serves as a reference line for the classification. random forest classifier and XGBoost classifier can provide us with feature importance rankings, so that we can know which features are most important in predicting the popularity of the submission. \n",
    "* Since this dataset is an extremely imbalanced dataset, with 4% class 1 and 96% class 0, we need to downsample the majority class to around 15000, then calculate the TF-IDF matrix, along with sentiment and subjectivity scores, then use SMOTE to synthesize new data points for the minority class, in order to upsample the minority class with new information. The desired ratio of majority class versus minority class is 2:1\n",
    "* Moreover, since we mostly care about whether we can predict the popular submission correctly, F1 score is a better evaluation metrics than the simple accuracy score."
   ]
  },
  {
   "cell_type": "code",
   "execution_count": null,
   "metadata": {
    "colab": {
     "base_uri": "https://localhost:8080/"
    },
    "executionInfo": {
     "elapsed": 219,
     "status": "ok",
     "timestamp": 1653695083429,
     "user": {
      "displayName": "Jiashuo Sun",
      "userId": "04199336118403268685"
     },
     "user_tz": 420
    },
    "id": "WRwYVjESN1Pv",
    "outputId": "6cc04d94-a735-4079-f5b9-f60265ec2508"
   },
   "outputs": [
    {
     "data": {
      "text/plain": [
       "(65182, 14)"
      ]
     },
     "execution_count": 11,
     "metadata": {},
     "output_type": "execute_result"
    }
   ],
   "source": [
    "df.shape"
   ]
  },
  {
   "cell_type": "code",
   "execution_count": null,
   "metadata": {
    "colab": {
     "base_uri": "https://localhost:8080/"
    },
    "executionInfo": {
     "elapsed": 4,
     "status": "ok",
     "timestamp": 1653695084015,
     "user": {
      "displayName": "Jiashuo Sun",
      "userId": "04199336118403268685"
     },
     "user_tz": 420
    },
    "id": "V_iYZGUXYEN-",
    "outputId": "d4f90bfa-7c77-47dd-ca43-43ab720857ba"
   },
   "outputs": [
    {
     "data": {
      "text/plain": [
       "0    62748\n",
       "1     2434\n",
       "Name: pop_or_not, dtype: int64"
      ]
     },
     "execution_count": 12,
     "metadata": {},
     "output_type": "execute_result"
    }
   ],
   "source": [
    "df['pop_or_not'].value_counts()"
   ]
  },
  {
   "cell_type": "markdown",
   "metadata": {
    "id": "oSRQ1WcvuKKr"
   },
   "source": [
    "**Downsampling the majority class**"
   ]
  },
  {
   "cell_type": "code",
   "execution_count": null,
   "metadata": {
    "id": "ZKvLSdAWZD_t"
   },
   "outputs": [],
   "source": [
    "from imblearn.over_sampling import SMOTE\n",
    "from sklearn.utils import resample"
   ]
  },
  {
   "cell_type": "code",
   "execution_count": null,
   "metadata": {
    "id": "69p3OEz9V9Sm"
   },
   "outputs": [],
   "source": [
    "#create two different dataframe of majority and minority class \n",
    "df_majority = df[(df['pop_or_not']==0)] \n",
    "df_minority = df[(df['pop_or_not']==1)] \n",
    "# downsample majority class\n",
    "df_majority_downsampled = resample(df_majority, \n",
    "                                 replace=False,    # sample without replacement\n",
    "                                 n_samples= 15000,\n",
    "                                 random_state=42)  # reproducible results\n",
    "# Combine majority class with upsampled minority class\n",
    "df_downsampled = pd.concat([df_majority_downsampled, df_minority])"
   ]
  },
  {
   "cell_type": "code",
   "execution_count": null,
   "metadata": {
    "colab": {
     "base_uri": "https://localhost:8080/"
    },
    "executionInfo": {
     "elapsed": 415,
     "status": "ok",
     "timestamp": 1653790592497,
     "user": {
      "displayName": "Jiashuo Sun",
      "userId": "04199336118403268685"
     },
     "user_tz": 420
    },
    "id": "WMI5GmswgFyt",
    "outputId": "b2b23e7e-f03c-4545-bfb3-cdb974df7dba"
   },
   "outputs": [
    {
     "data": {
      "text/plain": [
       "0    15000\n",
       "1     2434\n",
       "Name: pop_or_not, dtype: int64"
      ]
     },
     "execution_count": 12,
     "metadata": {},
     "output_type": "execute_result"
    }
   ],
   "source": [
    "df_downsampled['pop_or_not'].value_counts()"
   ]
  },
  {
   "cell_type": "markdown",
   "metadata": {
    "id": "K5kPm06gg8yH"
   },
   "source": [
    "**After downsampling the majority class, we need to tranform the data into TF-IDF matrix**"
   ]
  },
  {
   "cell_type": "code",
   "execution_count": null,
   "metadata": {
    "colab": {
     "base_uri": "https://localhost:8080/"
    },
    "executionInfo": {
     "elapsed": 5817,
     "status": "ok",
     "timestamp": 1653694362408,
     "user": {
      "displayName": "Jiashuo Sun",
      "userId": "04199336118403268685"
     },
     "user_tz": 420
    },
    "id": "LGk5HJK8g3Dg",
    "outputId": "2e1c945c-d132-47a5-c8d6-7708339730a0"
   },
   "outputs": [
    {
     "data": {
      "text/plain": [
       "(17434, 3145)"
      ]
     },
     "execution_count": 27,
     "metadata": {},
     "output_type": "execute_result"
    }
   ],
   "source": [
    "all_text = df_downsampled.cleaned_text.to_list()\n",
    "### use CountVectorizer and remove stopwords, remove too frequent tokens and remove very rare tokens\n",
    "contents_bow = CountVectorizer(stop_words='english', max_df = 0.1, min_df = 30).fit(all_text)\n",
    "contents = contents_bow.transform(all_text)\n",
    "### tranform to TF-IDF matrix\n",
    "transform_tfidf = TfidfTransformer().fit(contents)\n",
    "contents_tfidf = transform_tfidf.transform(contents)\n",
    "features_full = pd.DataFrame(contents_tfidf.toarray(), columns=contents_bow.get_feature_names_out())\n",
    "\n",
    "features_full.shape"
   ]
  },
  {
   "cell_type": "code",
   "execution_count": null,
   "metadata": {
    "id": "55i8HQ-NiHq0"
   },
   "outputs": [],
   "source": [
    "textblob_sen = []\n",
    "textblob_sub = []\n",
    "\n",
    "for item in all_text:\n",
    "    blob = TextBlob(item)\n",
    "    textblob_sen.append(blob.polarity)\n",
    "    textblob_sub.append(blob.subjectivity)"
   ]
  },
  {
   "cell_type": "code",
   "execution_count": null,
   "metadata": {
    "id": "7kIOhjL7iQX2"
   },
   "outputs": [],
   "source": [
    "features_full['sentiment'] = textblob_sen\n",
    "features_full['subjectivity'] = textblob_sub\n",
    "labels = df_downsampled['pop_or_not']"
   ]
  },
  {
   "cell_type": "markdown",
   "metadata": {
    "id": "RwODIwmsuOl6"
   },
   "source": [
    "**SMOTE to upsample the minority class**"
   ]
  },
  {
   "cell_type": "code",
   "execution_count": null,
   "metadata": {
    "id": "lv7Kdj2Bgl8o"
   },
   "outputs": [],
   "source": [
    "### use the SMOTE method to upsampling the minority class\n",
    "over = SMOTE(sampling_strategy=0.5)\n",
    "X, y = over.fit_resample(features_full, labels)"
   ]
  },
  {
   "cell_type": "code",
   "execution_count": null,
   "metadata": {
    "colab": {
     "base_uri": "https://localhost:8080/"
    },
    "executionInfo": {
     "elapsed": 21,
     "status": "ok",
     "timestamp": 1653694392019,
     "user": {
      "displayName": "Jiashuo Sun",
      "userId": "04199336118403268685"
     },
     "user_tz": 420
    },
    "id": "cHFHJKUgV9X4",
    "outputId": "6e7fa38e-36db-4c3d-e700-0ee96f24f6af"
   },
   "outputs": [
    {
     "data": {
      "text/plain": [
       "0    15000\n",
       "1     7500\n",
       "Name: pop_or_not, dtype: int64"
      ]
     },
     "execution_count": 31,
     "metadata": {},
     "output_type": "execute_result"
    }
   ],
   "source": [
    "y.value_counts()"
   ]
  },
  {
   "cell_type": "markdown",
   "metadata": {
    "id": "8G1tBFM0j8Bc"
   },
   "source": [
    "**After achieving the 2:1 ideal label ratio, now we can standardize the features, and then split train test dataset.**"
   ]
  },
  {
   "cell_type": "code",
   "execution_count": null,
   "metadata": {
    "id": "zm2ZDogTn1sO"
   },
   "outputs": [],
   "source": [
    "from sklearn.preprocessing import StandardScaler\n",
    "X_scaled = StandardScaler().fit_transform(X)"
   ]
  },
  {
   "cell_type": "code",
   "execution_count": null,
   "metadata": {
    "id": "N_fDfIx0V9bf"
   },
   "outputs": [],
   "source": [
    "X_train, X_test, y_train, y_test = train_test_split(X_scaled, y, test_size = 0.2, random_state = 42, stratify = y)"
   ]
  },
  {
   "cell_type": "markdown",
   "metadata": {
    "id": "Dfr66QybNxZ3"
   },
   "source": [
    "### Logistic Regression"
   ]
  },
  {
   "cell_type": "code",
   "execution_count": null,
   "metadata": {
    "colab": {
     "base_uri": "https://localhost:8080/"
    },
    "executionInfo": {
     "elapsed": 75433,
     "status": "ok",
     "timestamp": 1653287806348,
     "user": {
      "displayName": "Jiashuo Sun",
      "userId": "04199336118403268685"
     },
     "user_tz": 420
    },
    "id": "dQw-mBksNv2Q",
    "outputId": "ba02aa41-6869-4567-f823-799ccf5884ad"
   },
   "outputs": [
    {
     "name": "stderr",
     "output_type": "stream",
     "text": [
      "/usr/local/lib/python3.7/dist-packages/sklearn/linear_model/_sag.py:354: ConvergenceWarning: The max_iter was reached which means the coef_ did not converge\n",
      "  ConvergenceWarning,\n"
     ]
    }
   ],
   "source": [
    "### according to the documentation, \"saga\" will make it converge faster for large datasets\n",
    "lr_model = LogisticRegression(solver = 'saga')\n",
    "lr_model.fit(X_train, y_train)\n",
    "y_pred = lr_model.predict(X_test)"
   ]
  },
  {
   "cell_type": "code",
   "execution_count": null,
   "metadata": {
    "colab": {
     "base_uri": "https://localhost:8080/"
    },
    "executionInfo": {
     "elapsed": 155,
     "status": "ok",
     "timestamp": 1653287952541,
     "user": {
      "displayName": "Jiashuo Sun",
      "userId": "04199336118403268685"
     },
     "user_tz": 420
    },
    "id": "boBPMsX1Nv5N",
    "outputId": "9e6bc606-8bda-48b5-e115-f67e63f7eb65"
   },
   "outputs": [
    {
     "data": {
      "text/plain": [
       "array([[2319,  681],\n",
       "       [ 368, 1132]])"
      ]
     },
     "execution_count": 65,
     "metadata": {},
     "output_type": "execute_result"
    }
   ],
   "source": [
    "confusion_matrix(y_test, y_pred)"
   ]
  },
  {
   "cell_type": "code",
   "execution_count": null,
   "metadata": {
    "colab": {
     "base_uri": "https://localhost:8080/"
    },
    "executionInfo": {
     "elapsed": 577,
     "status": "ok",
     "timestamp": 1653287957088,
     "user": {
      "displayName": "Jiashuo Sun",
      "userId": "04199336118403268685"
     },
     "user_tz": 420
    },
    "id": "0mcMYfuONv7x",
    "outputId": "aadbedc8-f6c2-40ea-83c8-8f621fb5aff4"
   },
   "outputs": [
    {
     "data": {
      "text/plain": [
       "0.7668888888888888"
      ]
     },
     "execution_count": 66,
     "metadata": {},
     "output_type": "execute_result"
    }
   ],
   "source": [
    "accuracy_score(y_test, y_pred)"
   ]
  },
  {
   "cell_type": "code",
   "execution_count": null,
   "metadata": {
    "colab": {
     "base_uri": "https://localhost:8080/"
    },
    "executionInfo": {
     "elapsed": 180,
     "status": "ok",
     "timestamp": 1653287958406,
     "user": {
      "displayName": "Jiashuo Sun",
      "userId": "04199336118403268685"
     },
     "user_tz": 420
    },
    "id": "sae9RfWwNv-L",
    "outputId": "403ef9ab-5311-4e08-8488-d3c7dc5d0b85"
   },
   "outputs": [
    {
     "data": {
      "text/plain": [
       "0.6833685481436765"
      ]
     },
     "execution_count": 67,
     "metadata": {},
     "output_type": "execute_result"
    }
   ],
   "source": [
    "f1_score(y_test, y_pred)"
   ]
  },
  {
   "cell_type": "markdown",
   "metadata": {
    "id": "jcT8fZ0auVNl"
   },
   "source": [
    "**The F1 score of logistic regression is around 68%, which is not bad.**"
   ]
  },
  {
   "cell_type": "markdown",
   "metadata": {
    "id": "QqLQuv-ynTTs"
   },
   "source": [
    "### Random Forest Classifier"
   ]
  },
  {
   "cell_type": "code",
   "execution_count": null,
   "metadata": {
    "id": "Itg9lLkHNwBj"
   },
   "outputs": [],
   "source": [
    "rf_model = RandomForestClassifier(n_estimators = 200, max_depth = 8, max_features = 200)\n",
    "rf_model.fit(X_train, y_train)\n",
    "y_pred = rf_model.predict(X_test)"
   ]
  },
  {
   "cell_type": "code",
   "execution_count": null,
   "metadata": {
    "colab": {
     "base_uri": "https://localhost:8080/"
    },
    "executionInfo": {
     "elapsed": 11,
     "status": "ok",
     "timestamp": 1653289649459,
     "user": {
      "displayName": "Jiashuo Sun",
      "userId": "04199336118403268685"
     },
     "user_tz": 420
    },
    "id": "gd2b1fIGrmP8",
    "outputId": "6c2af080-8c2c-47eb-b5a7-1a8c5cf2bef9"
   },
   "outputs": [
    {
     "data": {
      "text/plain": [
       "array([[2869,  131],\n",
       "       [ 853,  647]])"
      ]
     },
     "execution_count": 82,
     "metadata": {},
     "output_type": "execute_result"
    }
   ],
   "source": [
    "confusion_matrix(y_test, y_pred)"
   ]
  },
  {
   "cell_type": "code",
   "execution_count": null,
   "metadata": {
    "colab": {
     "base_uri": "https://localhost:8080/"
    },
    "executionInfo": {
     "elapsed": 9,
     "status": "ok",
     "timestamp": 1653289649459,
     "user": {
      "displayName": "Jiashuo Sun",
      "userId": "04199336118403268685"
     },
     "user_tz": 420
    },
    "id": "LbXIwgOfrn7m",
    "outputId": "3dd09c82-86a7-4e26-9aaf-cc64b3bb5283"
   },
   "outputs": [
    {
     "data": {
      "text/plain": [
       "0.7813333333333333"
      ]
     },
     "execution_count": 83,
     "metadata": {},
     "output_type": "execute_result"
    }
   ],
   "source": [
    "accuracy_score(y_test, y_pred)"
   ]
  },
  {
   "cell_type": "code",
   "execution_count": null,
   "metadata": {
    "colab": {
     "base_uri": "https://localhost:8080/"
    },
    "executionInfo": {
     "elapsed": 7,
     "status": "ok",
     "timestamp": 1653289649460,
     "user": {
      "displayName": "Jiashuo Sun",
      "userId": "04199336118403268685"
     },
     "user_tz": 420
    },
    "id": "AKoWDYn4rocl",
    "outputId": "92dcd6d4-22cd-414a-a8cb-bd4736e7fe61"
   },
   "outputs": [
    {
     "data": {
      "text/plain": [
       "0.5680421422300262"
      ]
     },
     "execution_count": 84,
     "metadata": {},
     "output_type": "execute_result"
    }
   ],
   "source": [
    "f1_score(y_test, y_pred)"
   ]
  },
  {
   "cell_type": "code",
   "execution_count": null,
   "metadata": {
    "id": "dxLbtX2Vt8EH"
   },
   "outputs": [],
   "source": [
    "importances = rf_model.feature_importances_\n",
    "feature_names = features_full.columns"
   ]
  },
  {
   "cell_type": "code",
   "execution_count": null,
   "metadata": {
    "id": "CSq2e4DeufT5"
   },
   "outputs": [],
   "source": [
    "rf_feature_imp = pd.DataFrame(list(zip(feature_names, importances)),\n",
    "               columns =['Feature_Name', 'Importance'])\n",
    "top50_rf_features = rf_feature_imp.sort_values(by=['Importance'], ascending=False).head(50)"
   ]
  },
  {
   "cell_type": "code",
   "execution_count": null,
   "metadata": {
    "colab": {
     "base_uri": "https://localhost:8080/",
     "height": 1000
    },
    "executionInfo": {
     "elapsed": 193,
     "status": "ok",
     "timestamp": 1653293252218,
     "user": {
      "displayName": "Jiashuo Sun",
      "userId": "04199336118403268685"
     },
     "user_tz": 420
    },
    "id": "D10OS2ecu9IP",
    "outputId": "b1051890-fa54-4c10-da88-ae99a428589b"
   },
   "outputs": [
    {
     "data": {
      "text/html": [
       "\n",
       "  <div id=\"df-82d2e9b2-acc9-495e-a96c-fda6063a7a7f\">\n",
       "    <div class=\"colab-df-container\">\n",
       "      <div>\n",
       "<style scoped>\n",
       "    .dataframe tbody tr th:only-of-type {\n",
       "        vertical-align: middle;\n",
       "    }\n",
       "\n",
       "    .dataframe tbody tr th {\n",
       "        vertical-align: top;\n",
       "    }\n",
       "\n",
       "    .dataframe thead th {\n",
       "        text-align: right;\n",
       "    }\n",
       "</style>\n",
       "<table border=\"1\" class=\"dataframe\">\n",
       "  <thead>\n",
       "    <tr style=\"text-align: right;\">\n",
       "      <th></th>\n",
       "      <th>Feature_Name</th>\n",
       "      <th>Importance</th>\n",
       "    </tr>\n",
       "  </thead>\n",
       "  <tbody>\n",
       "    <tr>\n",
       "      <th>1089</th>\n",
       "      <td>financial</td>\n",
       "      <td>0.097993</td>\n",
       "    </tr>\n",
       "    <tr>\n",
       "      <th>3145</th>\n",
       "      <td>subjectivity</td>\n",
       "      <td>0.093303</td>\n",
       "    </tr>\n",
       "    <tr>\n",
       "      <th>1349</th>\n",
       "      <td>holding</td>\n",
       "      <td>0.053408</td>\n",
       "    </tr>\n",
       "    <tr>\n",
       "      <th>49</th>\n",
       "      <td>advice</td>\n",
       "      <td>0.053177</td>\n",
       "    </tr>\n",
       "    <tr>\n",
       "      <th>1311</th>\n",
       "      <td>hedge</td>\n",
       "      <td>0.030387</td>\n",
       "    </tr>\n",
       "    <tr>\n",
       "      <th>869</th>\n",
       "      <td>edit</td>\n",
       "      <td>0.028772</td>\n",
       "    </tr>\n",
       "    <tr>\n",
       "      <th>2466</th>\n",
       "      <td>sentiment</td>\n",
       "      <td>0.026929</td>\n",
       "    </tr>\n",
       "    <tr>\n",
       "      <th>2619</th>\n",
       "      <td>squeeze</td>\n",
       "      <td>0.024878</td>\n",
       "    </tr>\n",
       "    <tr>\n",
       "      <th>695</th>\n",
       "      <td>days</td>\n",
       "      <td>0.017899</td>\n",
       "    </tr>\n",
       "    <tr>\n",
       "      <th>1733</th>\n",
       "      <td>media</td>\n",
       "      <td>0.016433</td>\n",
       "    </tr>\n",
       "    <tr>\n",
       "      <th>1175</th>\n",
       "      <td>funds</td>\n",
       "      <td>0.016006</td>\n",
       "    </tr>\n",
       "    <tr>\n",
       "      <th>1163</th>\n",
       "      <td>fucking</td>\n",
       "      <td>0.015540</td>\n",
       "    </tr>\n",
       "    <tr>\n",
       "      <th>2514</th>\n",
       "      <td>shorts</td>\n",
       "      <td>0.014510</td>\n",
       "    </tr>\n",
       "    <tr>\n",
       "      <th>3139</th>\n",
       "      <td>youre</td>\n",
       "      <td>0.014276</td>\n",
       "    </tr>\n",
       "    <tr>\n",
       "      <th>2074</th>\n",
       "      <td>post</td>\n",
       "      <td>0.014200</td>\n",
       "    </tr>\n",
       "    <tr>\n",
       "      <th>2458</th>\n",
       "      <td>selling</td>\n",
       "      <td>0.014166</td>\n",
       "    </tr>\n",
       "    <tr>\n",
       "      <th>2360</th>\n",
       "      <td>right</td>\n",
       "      <td>0.013301</td>\n",
       "    </tr>\n",
       "    <tr>\n",
       "      <th>3044</th>\n",
       "      <td>way</td>\n",
       "      <td>0.012640</td>\n",
       "    </tr>\n",
       "    <tr>\n",
       "      <th>1847</th>\n",
       "      <td>need</td>\n",
       "      <td>0.012041</td>\n",
       "    </tr>\n",
       "    <tr>\n",
       "      <th>1655</th>\n",
       "      <td>lose</td>\n",
       "      <td>0.010879</td>\n",
       "    </tr>\n",
       "    <tr>\n",
       "      <th>2237</th>\n",
       "      <td>really</td>\n",
       "      <td>0.010141</td>\n",
       "    </tr>\n",
       "    <tr>\n",
       "      <th>2487</th>\n",
       "      <td>share</td>\n",
       "      <td>0.009880</td>\n",
       "    </tr>\n",
       "    <tr>\n",
       "      <th>2807</th>\n",
       "      <td>thats</td>\n",
       "      <td>0.009726</td>\n",
       "    </tr>\n",
       "    <tr>\n",
       "      <th>636</th>\n",
       "      <td>cover</td>\n",
       "      <td>0.009043</td>\n",
       "    </tr>\n",
       "    <tr>\n",
       "      <th>1728</th>\n",
       "      <td>means</td>\n",
       "      <td>0.008244</td>\n",
       "    </tr>\n",
       "    <tr>\n",
       "      <th>1645</th>\n",
       "      <td>long</td>\n",
       "      <td>0.007056</td>\n",
       "    </tr>\n",
       "    <tr>\n",
       "      <th>3117</th>\n",
       "      <td>wsb</td>\n",
       "      <td>0.006474</td>\n",
       "    </tr>\n",
       "    <tr>\n",
       "      <th>118</th>\n",
       "      <td>apes</td>\n",
       "      <td>0.006027</td>\n",
       "    </tr>\n",
       "    <tr>\n",
       "      <th>2067</th>\n",
       "      <td>position</td>\n",
       "      <td>0.006024</td>\n",
       "    </tr>\n",
       "    <tr>\n",
       "      <th>2334</th>\n",
       "      <td>retail</td>\n",
       "      <td>0.005981</td>\n",
       "    </tr>\n",
       "    <tr>\n",
       "      <th>95</th>\n",
       "      <td>amp</td>\n",
       "      <td>0.005778</td>\n",
       "    </tr>\n",
       "    <tr>\n",
       "      <th>249</th>\n",
       "      <td>believe</td>\n",
       "      <td>0.005411</td>\n",
       "    </tr>\n",
       "    <tr>\n",
       "      <th>2078</th>\n",
       "      <td>posts</td>\n",
       "      <td>0.005319</td>\n",
       "    </tr>\n",
       "    <tr>\n",
       "      <th>51</th>\n",
       "      <td>advisor</td>\n",
       "      <td>0.005285</td>\n",
       "    </tr>\n",
       "    <tr>\n",
       "      <th>2069</th>\n",
       "      <td>positions</td>\n",
       "      <td>0.005223</td>\n",
       "    </tr>\n",
       "    <tr>\n",
       "      <th>694</th>\n",
       "      <td>day</td>\n",
       "      <td>0.005123</td>\n",
       "    </tr>\n",
       "    <tr>\n",
       "      <th>1285</th>\n",
       "      <td>hands</td>\n",
       "      <td>0.004992</td>\n",
       "    </tr>\n",
       "    <tr>\n",
       "      <th>1540</th>\n",
       "      <td>ladder</td>\n",
       "      <td>0.004452</td>\n",
       "    </tr>\n",
       "    <tr>\n",
       "      <th>1023</th>\n",
       "      <td>fact</td>\n",
       "      <td>0.004441</td>\n",
       "    </tr>\n",
       "    <tr>\n",
       "      <th>3016</th>\n",
       "      <td>volume</td>\n",
       "      <td>0.004295</td>\n",
       "    </tr>\n",
       "    <tr>\n",
       "      <th>1287</th>\n",
       "      <td>happen</td>\n",
       "      <td>0.004193</td>\n",
       "    </tr>\n",
       "    <tr>\n",
       "      <th>806</th>\n",
       "      <td>doesnt</td>\n",
       "      <td>0.003980</td>\n",
       "    </tr>\n",
       "    <tr>\n",
       "      <th>2438</th>\n",
       "      <td>sec</td>\n",
       "      <td>0.003754</td>\n",
       "    </tr>\n",
       "    <tr>\n",
       "      <th>2415</th>\n",
       "      <td>say</td>\n",
       "      <td>0.003619</td>\n",
       "    </tr>\n",
       "    <tr>\n",
       "      <th>1701</th>\n",
       "      <td>manipulation</td>\n",
       "      <td>0.003597</td>\n",
       "    </tr>\n",
       "    <tr>\n",
       "      <th>1662</th>\n",
       "      <td>lot</td>\n",
       "      <td>0.003214</td>\n",
       "    </tr>\n",
       "    <tr>\n",
       "      <th>1315</th>\n",
       "      <td>hedgies</td>\n",
       "      <td>0.003019</td>\n",
       "    </tr>\n",
       "    <tr>\n",
       "      <th>3124</th>\n",
       "      <td>year</td>\n",
       "      <td>0.002988</td>\n",
       "    </tr>\n",
       "    <tr>\n",
       "      <th>1158</th>\n",
       "      <td>fuck</td>\n",
       "      <td>0.002797</td>\n",
       "    </tr>\n",
       "    <tr>\n",
       "      <th>2374</th>\n",
       "      <td>robinhood</td>\n",
       "      <td>0.002608</td>\n",
       "    </tr>\n",
       "  </tbody>\n",
       "</table>\n",
       "</div>\n",
       "      <button class=\"colab-df-convert\" onclick=\"convertToInteractive('df-82d2e9b2-acc9-495e-a96c-fda6063a7a7f')\"\n",
       "              title=\"Convert this dataframe to an interactive table.\"\n",
       "              style=\"display:none;\">\n",
       "        \n",
       "  <svg xmlns=\"http://www.w3.org/2000/svg\" height=\"24px\"viewBox=\"0 0 24 24\"\n",
       "       width=\"24px\">\n",
       "    <path d=\"M0 0h24v24H0V0z\" fill=\"none\"/>\n",
       "    <path d=\"M18.56 5.44l.94 2.06.94-2.06 2.06-.94-2.06-.94-.94-2.06-.94 2.06-2.06.94zm-11 1L8.5 8.5l.94-2.06 2.06-.94-2.06-.94L8.5 2.5l-.94 2.06-2.06.94zm10 10l.94 2.06.94-2.06 2.06-.94-2.06-.94-.94-2.06-.94 2.06-2.06.94z\"/><path d=\"M17.41 7.96l-1.37-1.37c-.4-.4-.92-.59-1.43-.59-.52 0-1.04.2-1.43.59L10.3 9.45l-7.72 7.72c-.78.78-.78 2.05 0 2.83L4 21.41c.39.39.9.59 1.41.59.51 0 1.02-.2 1.41-.59l7.78-7.78 2.81-2.81c.8-.78.8-2.07 0-2.86zM5.41 20L4 18.59l7.72-7.72 1.47 1.35L5.41 20z\"/>\n",
       "  </svg>\n",
       "      </button>\n",
       "      \n",
       "  <style>\n",
       "    .colab-df-container {\n",
       "      display:flex;\n",
       "      flex-wrap:wrap;\n",
       "      gap: 12px;\n",
       "    }\n",
       "\n",
       "    .colab-df-convert {\n",
       "      background-color: #E8F0FE;\n",
       "      border: none;\n",
       "      border-radius: 50%;\n",
       "      cursor: pointer;\n",
       "      display: none;\n",
       "      fill: #1967D2;\n",
       "      height: 32px;\n",
       "      padding: 0 0 0 0;\n",
       "      width: 32px;\n",
       "    }\n",
       "\n",
       "    .colab-df-convert:hover {\n",
       "      background-color: #E2EBFA;\n",
       "      box-shadow: 0px 1px 2px rgba(60, 64, 67, 0.3), 0px 1px 3px 1px rgba(60, 64, 67, 0.15);\n",
       "      fill: #174EA6;\n",
       "    }\n",
       "\n",
       "    [theme=dark] .colab-df-convert {\n",
       "      background-color: #3B4455;\n",
       "      fill: #D2E3FC;\n",
       "    }\n",
       "\n",
       "    [theme=dark] .colab-df-convert:hover {\n",
       "      background-color: #434B5C;\n",
       "      box-shadow: 0px 1px 3px 1px rgba(0, 0, 0, 0.15);\n",
       "      filter: drop-shadow(0px 1px 2px rgba(0, 0, 0, 0.3));\n",
       "      fill: #FFFFFF;\n",
       "    }\n",
       "  </style>\n",
       "\n",
       "      <script>\n",
       "        const buttonEl =\n",
       "          document.querySelector('#df-82d2e9b2-acc9-495e-a96c-fda6063a7a7f button.colab-df-convert');\n",
       "        buttonEl.style.display =\n",
       "          google.colab.kernel.accessAllowed ? 'block' : 'none';\n",
       "\n",
       "        async function convertToInteractive(key) {\n",
       "          const element = document.querySelector('#df-82d2e9b2-acc9-495e-a96c-fda6063a7a7f');\n",
       "          const dataTable =\n",
       "            await google.colab.kernel.invokeFunction('convertToInteractive',\n",
       "                                                     [key], {});\n",
       "          if (!dataTable) return;\n",
       "\n",
       "          const docLinkHtml = 'Like what you see? Visit the ' +\n",
       "            '<a target=\"_blank\" href=https://colab.research.google.com/notebooks/data_table.ipynb>data table notebook</a>'\n",
       "            + ' to learn more about interactive tables.';\n",
       "          element.innerHTML = '';\n",
       "          dataTable['output_type'] = 'display_data';\n",
       "          await google.colab.output.renderOutput(dataTable, element);\n",
       "          const docLink = document.createElement('div');\n",
       "          docLink.innerHTML = docLinkHtml;\n",
       "          element.appendChild(docLink);\n",
       "        }\n",
       "      </script>\n",
       "    </div>\n",
       "  </div>\n",
       "  "
      ],
      "text/plain": [
       "      Feature_Name  Importance\n",
       "1089     financial    0.097993\n",
       "3145  subjectivity    0.093303\n",
       "1349       holding    0.053408\n",
       "49          advice    0.053177\n",
       "1311         hedge    0.030387\n",
       "869           edit    0.028772\n",
       "2466     sentiment    0.026929\n",
       "2619       squeeze    0.024878\n",
       "695           days    0.017899\n",
       "1733         media    0.016433\n",
       "1175         funds    0.016006\n",
       "1163       fucking    0.015540\n",
       "2514        shorts    0.014510\n",
       "3139         youre    0.014276\n",
       "2074          post    0.014200\n",
       "2458       selling    0.014166\n",
       "2360         right    0.013301\n",
       "3044           way    0.012640\n",
       "1847          need    0.012041\n",
       "1655          lose    0.010879\n",
       "2237        really    0.010141\n",
       "2487         share    0.009880\n",
       "2807         thats    0.009726\n",
       "636          cover    0.009043\n",
       "1728         means    0.008244\n",
       "1645          long    0.007056\n",
       "3117           wsb    0.006474\n",
       "118           apes    0.006027\n",
       "2067      position    0.006024\n",
       "2334        retail    0.005981\n",
       "95             amp    0.005778\n",
       "249        believe    0.005411\n",
       "2078         posts    0.005319\n",
       "51         advisor    0.005285\n",
       "2069     positions    0.005223\n",
       "694            day    0.005123\n",
       "1285         hands    0.004992\n",
       "1540        ladder    0.004452\n",
       "1023          fact    0.004441\n",
       "3016        volume    0.004295\n",
       "1287        happen    0.004193\n",
       "806         doesnt    0.003980\n",
       "2438           sec    0.003754\n",
       "2415           say    0.003619\n",
       "1701  manipulation    0.003597\n",
       "1662           lot    0.003214\n",
       "1315       hedgies    0.003019\n",
       "3124          year    0.002988\n",
       "1158          fuck    0.002797\n",
       "2374     robinhood    0.002608"
      ]
     },
     "execution_count": 103,
     "metadata": {},
     "output_type": "execute_result"
    }
   ],
   "source": [
    "top50_rf_features"
   ]
  },
  {
   "cell_type": "code",
   "execution_count": null,
   "metadata": {
    "id": "tQmMRXKr-HmQ"
   },
   "outputs": [],
   "source": [
    "top50_rf_features.to_csv('./drive/MyDrive/Colab Notebooks/feature_importance_rf.csv', index = False)"
   ]
  },
  {
   "cell_type": "code",
   "execution_count": null,
   "metadata": {
    "colab": {
     "base_uri": "https://localhost:8080/",
     "height": 271
    },
    "executionInfo": {
     "elapsed": 1342,
     "status": "ok",
     "timestamp": 1653887396358,
     "user": {
      "displayName": "Jiashuo Sun",
      "userId": "04199336118403268685"
     },
     "user_tz": 420
    },
    "id": "m5YfLluGXHBp",
    "outputId": "caa0c6de-0a6a-4728-b0a5-865f9bde7bfe"
   },
   "outputs": [
    {
     "data": {
      "image/png": "[encoded data removed]",
      "text/plain": [
       "<Figure size 1440x216 with 1 Axes>"
      ]
     },
     "metadata": {
      "needs_background": "light"
     },
     "output_type": "display_data"
    }
   ],
   "source": [
    "plt.figure(figsize=(20,3))\n",
    "plt.bar(top50_rf_features.Feature_Name, top50_rf_features.Importance, data = top50_rf_features)\n",
    "plt.xticks(rotation = 45) # Rotates X-Axis Ticks by 45-degrees\n",
    "plt.title(\"Feature Importance of Random Forest Classifier\")\n",
    "plt.show()"
   ]
  },
  {
   "cell_type": "markdown",
   "metadata": {
    "id": "t__o-YXMujtT"
   },
   "source": [
    "* The F1 score of random forest is not as good as logistic regression, maybe further parameter tuning is necessary.\n",
    "* **If we take a look at the top 50 important features, we can find that sentiment score, subjectivity score, and tokens like \"financial\", \"holding\", \"hedge\", \"fund\", \"squeeze\", \"media\", and \"advice\" are among the top. This probably reflects that the motivation behind the GameStop event might be some strong sentiment towards hedge funds, and the sense of achievement and \"creating history\" by the action of short squeezing those hedge funds.**"
   ]
  },
  {
   "cell_type": "markdown",
   "metadata": {
    "id": "JlsI9WkIpLWw"
   },
   "source": [
    "### XGBoosting Classifier"
   ]
  },
  {
   "cell_type": "code",
   "execution_count": null,
   "metadata": {
    "id": "5qesO_vo8KEI"
   },
   "outputs": [],
   "source": [
    "xgb_cl = xgb.XGBClassifier(learning_rate=0.1,max_depth=8, n_estimators=200, random_state = 42)\n",
    "xgb_cl.fit(X_train, y_train)\n",
    "y_pred = xgb_cl.predict(X_test)"
   ]
  },
  {
   "cell_type": "code",
   "execution_count": null,
   "metadata": {
    "colab": {
     "background_save": true
    },
    "id": "Yr_Ce78cyRw2",
    "outputId": "f830025d-8b79-4654-c37f-b4b3f1fab9ff"
   },
   "outputs": [
    {
     "data": {
      "text/plain": [
       "array([[2835,  165],\n",
       "       [ 471, 1029]])"
      ]
     },
     "execution_count": null,
     "metadata": {},
     "output_type": "execute_result"
    }
   ],
   "source": [
    "confusion_matrix(y_test, y_pred)"
   ]
  },
  {
   "cell_type": "code",
   "execution_count": null,
   "metadata": {
    "colab": {
     "background_save": true
    },
    "id": "nYAv2mgdyRzU",
    "outputId": "4c59c597-85a7-41fd-822d-9ecc6565b943"
   },
   "outputs": [
    {
     "data": {
      "text/plain": [
       "0.8586666666666667"
      ]
     },
     "execution_count": null,
     "metadata": {},
     "output_type": "execute_result"
    }
   ],
   "source": [
    "accuracy_score(y_test, y_pred)"
   ]
  },
  {
   "cell_type": "code",
   "execution_count": null,
   "metadata": {
    "colab": {
     "background_save": true
    },
    "id": "RgCZnZ1YyR10",
    "outputId": "89a092df-6ded-4917-fae1-02bcb2c644e4"
   },
   "outputs": [
    {
     "data": {
      "text/plain": [
       "0.7639198218262807"
      ]
     },
     "execution_count": null,
     "metadata": {},
     "output_type": "execute_result"
    }
   ],
   "source": [
    "f1_score(y_test, y_pred)"
   ]
  },
  {
   "cell_type": "code",
   "execution_count": null,
   "metadata": {
    "colab": {
     "background_save": true
    },
    "id": "UMTJj3IyyR4s"
   },
   "outputs": [],
   "source": [
    "xgb_fea_imp=pd.DataFrame(list(xgb_cl.get_booster().get_fscore().items()),\n",
    "                         columns=['feature','importance']).sort_values('importance', ascending=False)"
   ]
  },
  {
   "cell_type": "code",
   "execution_count": null,
   "metadata": {
    "id": "cUC9BuqX7-9w"
   },
   "outputs": [],
   "source": [
    "importances = xgb_cl.feature_importances_"
   ]
  },
  {
   "cell_type": "code",
   "execution_count": null,
   "metadata": {
    "id": "rf7MNliqyR_h"
   },
   "outputs": [],
   "source": [
    "xgb_feature_imp = pd.DataFrame(list(zip(feature_names, importances)),\n",
    "               columns =['Feature_Name', 'Importance'])\n",
    "top50_xgb_features = xgb_feature_imp.sort_values(by=['Importance'], ascending=False).head(50)"
   ]
  },
  {
   "cell_type": "code",
   "execution_count": null,
   "metadata": {
    "colab": {
     "base_uri": "https://localhost:8080/",
     "height": 1000
    },
    "executionInfo": {
     "elapsed": 252,
     "status": "ok",
     "timestamp": 1653293170898,
     "user": {
      "displayName": "Jiashuo Sun",
      "userId": "04199336118403268685"
     },
     "user_tz": 420
    },
    "id": "O0xyQlRR86-h",
    "outputId": "b3db58a3-e01f-4f4e-a435-dc2e2a21e9c1"
   },
   "outputs": [
    {
     "data": {
      "text/html": [
       "\n",
       "  <div id=\"df-fd803174-cf23-483a-a8ff-9b2f1285f15e\">\n",
       "    <div class=\"colab-df-container\">\n",
       "      <div>\n",
       "<style scoped>\n",
       "    .dataframe tbody tr th:only-of-type {\n",
       "        vertical-align: middle;\n",
       "    }\n",
       "\n",
       "    .dataframe tbody tr th {\n",
       "        vertical-align: top;\n",
       "    }\n",
       "\n",
       "    .dataframe thead th {\n",
       "        text-align: right;\n",
       "    }\n",
       "</style>\n",
       "<table border=\"1\" class=\"dataframe\">\n",
       "  <thead>\n",
       "    <tr style=\"text-align: right;\">\n",
       "      <th></th>\n",
       "      <th>Feature_Name</th>\n",
       "      <th>Importance</th>\n",
       "    </tr>\n",
       "  </thead>\n",
       "  <tbody>\n",
       "    <tr>\n",
       "      <th>1089</th>\n",
       "      <td>financial</td>\n",
       "      <td>0.013873</td>\n",
       "    </tr>\n",
       "    <tr>\n",
       "      <th>2438</th>\n",
       "      <td>sec</td>\n",
       "      <td>0.008711</td>\n",
       "    </tr>\n",
       "    <tr>\n",
       "      <th>1349</th>\n",
       "      <td>holding</td>\n",
       "      <td>0.006473</td>\n",
       "    </tr>\n",
       "    <tr>\n",
       "      <th>1733</th>\n",
       "      <td>media</td>\n",
       "      <td>0.005683</td>\n",
       "    </tr>\n",
       "    <tr>\n",
       "      <th>95</th>\n",
       "      <td>amp</td>\n",
       "      <td>0.005554</td>\n",
       "    </tr>\n",
       "    <tr>\n",
       "      <th>3139</th>\n",
       "      <td>youre</td>\n",
       "      <td>0.005490</td>\n",
       "    </tr>\n",
       "    <tr>\n",
       "      <th>118</th>\n",
       "      <td>apes</td>\n",
       "      <td>0.004892</td>\n",
       "    </tr>\n",
       "    <tr>\n",
       "      <th>1311</th>\n",
       "      <td>hedge</td>\n",
       "      <td>0.004637</td>\n",
       "    </tr>\n",
       "    <tr>\n",
       "      <th>3145</th>\n",
       "      <td>subjectivity</td>\n",
       "      <td>0.004549</td>\n",
       "    </tr>\n",
       "    <tr>\n",
       "      <th>323</th>\n",
       "      <td>bots</td>\n",
       "      <td>0.004198</td>\n",
       "    </tr>\n",
       "    <tr>\n",
       "      <th>869</th>\n",
       "      <td>edit</td>\n",
       "      <td>0.003923</td>\n",
       "    </tr>\n",
       "    <tr>\n",
       "      <th>2291</th>\n",
       "      <td>remember</td>\n",
       "      <td>0.003801</td>\n",
       "    </tr>\n",
       "    <tr>\n",
       "      <th>1540</th>\n",
       "      <td>ladder</td>\n",
       "      <td>0.003784</td>\n",
       "    </tr>\n",
       "    <tr>\n",
       "      <th>695</th>\n",
       "      <td>days</td>\n",
       "      <td>0.003761</td>\n",
       "    </tr>\n",
       "    <tr>\n",
       "      <th>2334</th>\n",
       "      <td>retail</td>\n",
       "      <td>0.003490</td>\n",
       "    </tr>\n",
       "    <tr>\n",
       "      <th>2342</th>\n",
       "      <td>returns</td>\n",
       "      <td>0.003176</td>\n",
       "    </tr>\n",
       "    <tr>\n",
       "      <th>482</th>\n",
       "      <td>citadel</td>\n",
       "      <td>0.003175</td>\n",
       "    </tr>\n",
       "    <tr>\n",
       "      <th>2902</th>\n",
       "      <td>trigger</td>\n",
       "      <td>0.003145</td>\n",
       "    </tr>\n",
       "    <tr>\n",
       "      <th>1315</th>\n",
       "      <td>hedgies</td>\n",
       "      <td>0.003106</td>\n",
       "    </tr>\n",
       "    <tr>\n",
       "      <th>2619</th>\n",
       "      <td>squeeze</td>\n",
       "      <td>0.003062</td>\n",
       "    </tr>\n",
       "    <tr>\n",
       "      <th>1329</th>\n",
       "      <td>hfs</td>\n",
       "      <td>0.003030</td>\n",
       "    </tr>\n",
       "    <tr>\n",
       "      <th>2699</th>\n",
       "      <td>subreddit</td>\n",
       "      <td>0.002993</td>\n",
       "    </tr>\n",
       "    <tr>\n",
       "      <th>2078</th>\n",
       "      <td>posts</td>\n",
       "      <td>0.002978</td>\n",
       "    </tr>\n",
       "    <tr>\n",
       "      <th>2458</th>\n",
       "      <td>selling</td>\n",
       "      <td>0.002909</td>\n",
       "    </tr>\n",
       "    <tr>\n",
       "      <th>2951</th>\n",
       "      <td>unless</td>\n",
       "      <td>0.002874</td>\n",
       "    </tr>\n",
       "    <tr>\n",
       "      <th>1392</th>\n",
       "      <td>img</td>\n",
       "      <td>0.002846</td>\n",
       "    </tr>\n",
       "    <tr>\n",
       "      <th>925</th>\n",
       "      <td>equity</td>\n",
       "      <td>0.002746</td>\n",
       "    </tr>\n",
       "    <tr>\n",
       "      <th>1660</th>\n",
       "      <td>losses</td>\n",
       "      <td>0.002634</td>\n",
       "    </tr>\n",
       "    <tr>\n",
       "      <th>213</th>\n",
       "      <td>bankrupt</td>\n",
       "      <td>0.002592</td>\n",
       "    </tr>\n",
       "    <tr>\n",
       "      <th>1728</th>\n",
       "      <td>means</td>\n",
       "      <td>0.002475</td>\n",
       "    </tr>\n",
       "    <tr>\n",
       "      <th>530</th>\n",
       "      <td>comments</td>\n",
       "      <td>0.002442</td>\n",
       "    </tr>\n",
       "    <tr>\n",
       "      <th>1198</th>\n",
       "      <td>garbage</td>\n",
       "      <td>0.002409</td>\n",
       "    </tr>\n",
       "    <tr>\n",
       "      <th>2980</th>\n",
       "      <td>using</td>\n",
       "      <td>0.002396</td>\n",
       "    </tr>\n",
       "    <tr>\n",
       "      <th>1701</th>\n",
       "      <td>manipulation</td>\n",
       "      <td>0.002376</td>\n",
       "    </tr>\n",
       "    <tr>\n",
       "      <th>1655</th>\n",
       "      <td>lose</td>\n",
       "      <td>0.002329</td>\n",
       "    </tr>\n",
       "    <tr>\n",
       "      <th>2566</th>\n",
       "      <td>social</td>\n",
       "      <td>0.002323</td>\n",
       "    </tr>\n",
       "    <tr>\n",
       "      <th>1721</th>\n",
       "      <td>matter</td>\n",
       "      <td>0.002297</td>\n",
       "    </tr>\n",
       "    <tr>\n",
       "      <th>439</th>\n",
       "      <td>ceo</td>\n",
       "      <td>0.002277</td>\n",
       "    </tr>\n",
       "    <tr>\n",
       "      <th>1163</th>\n",
       "      <td>fucking</td>\n",
       "      <td>0.002247</td>\n",
       "    </tr>\n",
       "    <tr>\n",
       "      <th>49</th>\n",
       "      <td>advice</td>\n",
       "      <td>0.002243</td>\n",
       "    </tr>\n",
       "    <tr>\n",
       "      <th>595</th>\n",
       "      <td>continue</td>\n",
       "      <td>0.002223</td>\n",
       "    </tr>\n",
       "    <tr>\n",
       "      <th>117</th>\n",
       "      <td>ape</td>\n",
       "      <td>0.002160</td>\n",
       "    </tr>\n",
       "    <tr>\n",
       "      <th>3112</th>\n",
       "      <td>write</td>\n",
       "      <td>0.002156</td>\n",
       "    </tr>\n",
       "    <tr>\n",
       "      <th>933</th>\n",
       "      <td>establishment</td>\n",
       "      <td>0.002144</td>\n",
       "    </tr>\n",
       "    <tr>\n",
       "      <th>3033</th>\n",
       "      <td>war</td>\n",
       "      <td>0.002143</td>\n",
       "    </tr>\n",
       "    <tr>\n",
       "      <th>1328</th>\n",
       "      <td>hf</td>\n",
       "      <td>0.002131</td>\n",
       "    </tr>\n",
       "    <tr>\n",
       "      <th>69</th>\n",
       "      <td>aint</td>\n",
       "      <td>0.002122</td>\n",
       "    </tr>\n",
       "    <tr>\n",
       "      <th>1611</th>\n",
       "      <td>lines</td>\n",
       "      <td>0.002118</td>\n",
       "    </tr>\n",
       "    <tr>\n",
       "      <th>120</th>\n",
       "      <td>app</td>\n",
       "      <td>0.002104</td>\n",
       "    </tr>\n",
       "    <tr>\n",
       "      <th>3078</th>\n",
       "      <td>win</td>\n",
       "      <td>0.002085</td>\n",
       "    </tr>\n",
       "  </tbody>\n",
       "</table>\n",
       "</div>\n",
       "      <button class=\"colab-df-convert\" onclick=\"convertToInteractive('df-fd803174-cf23-483a-a8ff-9b2f1285f15e')\"\n",
       "              title=\"Convert this dataframe to an interactive table.\"\n",
       "              style=\"display:none;\">\n",
       "        \n",
       "  <svg xmlns=\"http://www.w3.org/2000/svg\" height=\"24px\"viewBox=\"0 0 24 24\"\n",
       "       width=\"24px\">\n",
       "    <path d=\"M0 0h24v24H0V0z\" fill=\"none\"/>\n",
       "    <path d=\"M18.56 5.44l.94 2.06.94-2.06 2.06-.94-2.06-.94-.94-2.06-.94 2.06-2.06.94zm-11 1L8.5 8.5l.94-2.06 2.06-.94-2.06-.94L8.5 2.5l-.94 2.06-2.06.94zm10 10l.94 2.06.94-2.06 2.06-.94-2.06-.94-.94-2.06-.94 2.06-2.06.94z\"/><path d=\"M17.41 7.96l-1.37-1.37c-.4-.4-.92-.59-1.43-.59-.52 0-1.04.2-1.43.59L10.3 9.45l-7.72 7.72c-.78.78-.78 2.05 0 2.83L4 21.41c.39.39.9.59 1.41.59.51 0 1.02-.2 1.41-.59l7.78-7.78 2.81-2.81c.8-.78.8-2.07 0-2.86zM5.41 20L4 18.59l7.72-7.72 1.47 1.35L5.41 20z\"/>\n",
       "  </svg>\n",
       "      </button>\n",
       "      \n",
       "  <style>\n",
       "    .colab-df-container {\n",
       "      display:flex;\n",
       "      flex-wrap:wrap;\n",
       "      gap: 12px;\n",
       "    }\n",
       "\n",
       "    .colab-df-convert {\n",
       "      background-color: #E8F0FE;\n",
       "      border: none;\n",
       "      border-radius: 50%;\n",
       "      cursor: pointer;\n",
       "      display: none;\n",
       "      fill: #1967D2;\n",
       "      height: 32px;\n",
       "      padding: 0 0 0 0;\n",
       "      width: 32px;\n",
       "    }\n",
       "\n",
       "    .colab-df-convert:hover {\n",
       "      background-color: #E2EBFA;\n",
       "      box-shadow: 0px 1px 2px rgba(60, 64, 67, 0.3), 0px 1px 3px 1px rgba(60, 64, 67, 0.15);\n",
       "      fill: #174EA6;\n",
       "    }\n",
       "\n",
       "    [theme=dark] .colab-df-convert {\n",
       "      background-color: #3B4455;\n",
       "      fill: #D2E3FC;\n",
       "    }\n",
       "\n",
       "    [theme=dark] .colab-df-convert:hover {\n",
       "      background-color: #434B5C;\n",
       "      box-shadow: 0px 1px 3px 1px rgba(0, 0, 0, 0.15);\n",
       "      filter: drop-shadow(0px 1px 2px rgba(0, 0, 0, 0.3));\n",
       "      fill: #FFFFFF;\n",
       "    }\n",
       "  </style>\n",
       "\n",
       "      <script>\n",
       "        const buttonEl =\n",
       "          document.querySelector('#df-fd803174-cf23-483a-a8ff-9b2f1285f15e button.colab-df-convert');\n",
       "        buttonEl.style.display =\n",
       "          google.colab.kernel.accessAllowed ? 'block' : 'none';\n",
       "\n",
       "        async function convertToInteractive(key) {\n",
       "          const element = document.querySelector('#df-fd803174-cf23-483a-a8ff-9b2f1285f15e');\n",
       "          const dataTable =\n",
       "            await google.colab.kernel.invokeFunction('convertToInteractive',\n",
       "                                                     [key], {});\n",
       "          if (!dataTable) return;\n",
       "\n",
       "          const docLinkHtml = 'Like what you see? Visit the ' +\n",
       "            '<a target=\"_blank\" href=https://colab.research.google.com/notebooks/data_table.ipynb>data table notebook</a>'\n",
       "            + ' to learn more about interactive tables.';\n",
       "          element.innerHTML = '';\n",
       "          dataTable['output_type'] = 'display_data';\n",
       "          await google.colab.output.renderOutput(dataTable, element);\n",
       "          const docLink = document.createElement('div');\n",
       "          docLink.innerHTML = docLinkHtml;\n",
       "          element.appendChild(docLink);\n",
       "        }\n",
       "      </script>\n",
       "    </div>\n",
       "  </div>\n",
       "  "
      ],
      "text/plain": [
       "       Feature_Name  Importance\n",
       "1089      financial    0.013873\n",
       "2438            sec    0.008711\n",
       "1349        holding    0.006473\n",
       "1733          media    0.005683\n",
       "95              amp    0.005554\n",
       "3139          youre    0.005490\n",
       "118            apes    0.004892\n",
       "1311          hedge    0.004637\n",
       "3145   subjectivity    0.004549\n",
       "323            bots    0.004198\n",
       "869            edit    0.003923\n",
       "2291       remember    0.003801\n",
       "1540         ladder    0.003784\n",
       "695            days    0.003761\n",
       "2334         retail    0.003490\n",
       "2342        returns    0.003176\n",
       "482         citadel    0.003175\n",
       "2902        trigger    0.003145\n",
       "1315        hedgies    0.003106\n",
       "2619        squeeze    0.003062\n",
       "1329            hfs    0.003030\n",
       "2699      subreddit    0.002993\n",
       "2078          posts    0.002978\n",
       "2458        selling    0.002909\n",
       "2951         unless    0.002874\n",
       "1392            img    0.002846\n",
       "925          equity    0.002746\n",
       "1660         losses    0.002634\n",
       "213        bankrupt    0.002592\n",
       "1728          means    0.002475\n",
       "530        comments    0.002442\n",
       "1198        garbage    0.002409\n",
       "2980          using    0.002396\n",
       "1701   manipulation    0.002376\n",
       "1655           lose    0.002329\n",
       "2566         social    0.002323\n",
       "1721         matter    0.002297\n",
       "439             ceo    0.002277\n",
       "1163        fucking    0.002247\n",
       "49           advice    0.002243\n",
       "595        continue    0.002223\n",
       "117             ape    0.002160\n",
       "3112          write    0.002156\n",
       "933   establishment    0.002144\n",
       "3033            war    0.002143\n",
       "1328             hf    0.002131\n",
       "69             aint    0.002122\n",
       "1611          lines    0.002118\n",
       "120             app    0.002104\n",
       "3078            win    0.002085"
      ]
     },
     "execution_count": 100,
     "metadata": {},
     "output_type": "execute_result"
    }
   ],
   "source": [
    "top50_xgb_features"
   ]
  },
  {
   "cell_type": "code",
   "execution_count": null,
   "metadata": {
    "id": "o_2f2s538Ocg"
   },
   "outputs": [],
   "source": [
    "top50_xgb_features.to_csv('./drive/MyDrive/Colab Notebooks/feature_importance_xgb.csv', index = False)"
   ]
  },
  {
   "cell_type": "code",
   "execution_count": null,
   "metadata": {
    "colab": {
     "base_uri": "https://localhost:8080/",
     "height": 272
    },
    "executionInfo": {
     "elapsed": 1240,
     "status": "ok",
     "timestamp": 1653887380584,
     "user": {
      "displayName": "Jiashuo Sun",
      "userId": "04199336118403268685"
     },
     "user_tz": 420
    },
    "id": "42AYbwa3XeWN",
    "outputId": "0d42dcba-00b5-4e98-c578-be686a14ce99"
   },
   "outputs": [
    {
     "data": {
      "image/png": "[encoded data removed]",
      "text/plain": [
       "<Figure size 1440x216 with 1 Axes>"
      ]
     },
     "metadata": {
      "needs_background": "light"
     },
     "output_type": "display_data"
    }
   ],
   "source": [
    "plt.figure(figsize=(20,3))\n",
    "plt.bar(top50_xgb_features.Feature_Name, top50_xgb_features.Importance, data = top50_xgb_features)\n",
    "plt.xticks(rotation = 45) # Rotates X-Axis Ticks by 45-degrees\n",
    "plt.title(\"Feature Importance of XGBoost Classifier\")\n",
    "plt.show()"
   ]
  },
  {
   "cell_type": "markdown",
   "metadata": {
    "id": "In9iMXaLLnN1"
   },
   "source": [
    "* The F1 score of XGBoost Classifier is very good, even without much parameter tuning performed.\n",
    "* **If we take a look at the top 50 important features, we can find that this set of features is different from the one identified by random forest. The subjectivity score is still among the most important features, but the sentiment score disappears. Tokens like \"financial\", \"sec\", \"holding\", \"media\", \"hedge\", \"funds\", \"citadel\", \"remember\", \"retail\" are among the top. Again, this probably reflects that the motivation behind the GameStop event might be some strong sentiment towards hedge funds like Citadel, and the sense of achievement and \"creating history\" stimulated by the action of short squeezing those hedge funds by retail investors.**"
   ]
  },
  {
   "cell_type": "markdown",
   "metadata": {
    "id": "k7KzNJ3SHaBz"
   },
   "source": [
    "## Deep Sentence Embeddings\n",
    "\n",
    "* The TF-IDF matrix is still a very sparse matrix, we can use the Deep Embedding to convert the sparse matrix into a dense one, in order to improve the performance of the model.\n",
    "\n",
    "\n",
    "\n",
    "\n"
   ]
  },
  {
   "cell_type": "code",
   "execution_count": null,
   "metadata": {
    "id": "6kTrHZUIwcxU"
   },
   "outputs": [],
   "source": [
    "import tensorflow as tf\n",
    "import tensorflow_hub as hub\n",
    "import keras"
   ]
  },
  {
   "cell_type": "code",
   "execution_count": null,
   "metadata": {
    "id": "7iOa8QJXsscn"
   },
   "outputs": [],
   "source": [
    "module_url = \"https://tfhub.dev/google/universal-sentence-encoder/4\"\n",
    "model = hub.load(module_url)"
   ]
  },
  {
   "cell_type": "markdown",
   "metadata": {
    "id": "4H3JfRRd5Ok_"
   },
   "source": [
    "Let's firstly transform the cleaned text of all the popular submissions (2434 submissions), and the cleaned text of downsampled unpopular submissions (10000 submissions) into dense matrix."
   ]
  },
  {
   "cell_type": "code",
   "execution_count": null,
   "metadata": {
    "id": "YfKEPutV6Yhj"
   },
   "outputs": [],
   "source": [
    "text_pop = df_minority.cleaned_text.to_list()\n",
    "emb_pop = model(text_pop)"
   ]
  },
  {
   "cell_type": "code",
   "execution_count": null,
   "metadata": {
    "id": "ALBRcH0Y670d"
   },
   "outputs": [],
   "source": [
    "# downsample majority class to 10000 submissions\n",
    "df_unpop_down = resample(df_majority, \n",
    "                                 replace=False,    # sample without replacement\n",
    "                                 n_samples= 10000,\n",
    "                                 random_state=42)  # reproducible results\n",
    "# sentence embedder\n",
    "text_unpop = df_unpop_down.cleaned_text.to_list()\n",
    "emb_unpop = model(text_unpop)"
   ]
  },
  {
   "cell_type": "code",
   "execution_count": null,
   "metadata": {
    "id": "AhqVBaIlahLQ"
   },
   "outputs": [],
   "source": [
    "feature_pop = pd.DataFrame(emb_pop.numpy())\n",
    "feature_unpop = pd.DataFrame(emb_unpop.numpy())"
   ]
  },
  {
   "cell_type": "code",
   "execution_count": null,
   "metadata": {
    "colab": {
     "base_uri": "https://localhost:8080/"
    },
    "executionInfo": {
     "elapsed": 21,
     "status": "ok",
     "timestamp": 1653790706020,
     "user": {
      "displayName": "Jiashuo Sun",
      "userId": "04199336118403268685"
     },
     "user_tz": 420
    },
    "id": "Rcs48ICcbA8B",
    "outputId": "cfb9cccf-588f-4200-a276-5d030c2ed45e"
   },
   "outputs": [
    {
     "name": "stdout",
     "output_type": "stream",
     "text": [
      "(2434, 512) (10000, 512)\n"
     ]
    }
   ],
   "source": [
    "print(feature_pop.shape, feature_unpop.shape)"
   ]
  },
  {
   "cell_type": "markdown",
   "metadata": {
    "id": "ziqLdsTdbFiT"
   },
   "source": [
    "**We can find that after the transformation of this embedder, the number of features is 512, which is much less than the 3145 features with the TF-IDF transformation. This matrix is much denser than the TF-IDF matrix. The next step is to add the sentiment score and subjectivity score.**"
   ]
  },
  {
   "cell_type": "code",
   "execution_count": null,
   "metadata": {
    "id": "B-CnDASvBOuy"
   },
   "outputs": [],
   "source": [
    "textblob_sen_pop = []\n",
    "textblob_sub_pop = []\n",
    "\n",
    "for item in text_pop:\n",
    "    blob = TextBlob(item)\n",
    "    textblob_sen_pop.append(blob.polarity)\n",
    "    textblob_sub_pop.append(blob.subjectivity)"
   ]
  },
  {
   "cell_type": "code",
   "execution_count": null,
   "metadata": {
    "id": "7RgLmeTjWW6S"
   },
   "outputs": [],
   "source": [
    "textblob_sen_unpop = []\n",
    "textblob_sub_unpop = []\n",
    "\n",
    "for item in text_unpop:\n",
    "    blob = TextBlob(item)\n",
    "    textblob_sen_unpop.append(blob.polarity)\n",
    "    textblob_sub_unpop.append(blob.subjectivity)"
   ]
  },
  {
   "cell_type": "code",
   "execution_count": null,
   "metadata": {
    "id": "ePTz4oijwuvJ"
   },
   "outputs": [],
   "source": [
    "feature_pop['sentiment'] = textblob_sen_pop\n",
    "feature_pop['subjectivity'] = textblob_sub_pop\n",
    "feature_unpop['sentiment'] = textblob_sen_unpop\n",
    "feature_unpop['subjectivity'] = textblob_sub_unpop"
   ]
  },
  {
   "cell_type": "code",
   "execution_count": null,
   "metadata": {
    "id": "gajSkhOPcMcw"
   },
   "outputs": [],
   "source": [
    "df_features = pd.concat([feature_pop, feature_unpop])\n",
    "df_features.columns = df_features.columns.astype(str)\n",
    "labels = pd.concat([df_minority['pop_or_not'], df_unpop_down['pop_or_not']])"
   ]
  },
  {
   "cell_type": "markdown",
   "metadata": {
    "id": "TM4sm4m1c_X7"
   },
   "source": [
    "**Then we use SMOTE method to upsampling the minority class to be around half of the number of records for the majority class.**"
   ]
  },
  {
   "cell_type": "code",
   "execution_count": null,
   "metadata": {
    "id": "u82aotedxnQI"
   },
   "outputs": [],
   "source": [
    "from imblearn.over_sampling import SMOTE\n",
    "from sklearn.utils import resample\n",
    "### use the SMOTE method to upsampling the minority class\n",
    "over = SMOTE(sampling_strategy=0.5)\n",
    "X, y = over.fit_resample(df_features, labels)\n",
    "### train test split\n",
    "X_train, X_test, y_train, y_test = train_test_split(X, y, test_size = 0.2, random_state = 42, stratify = y)"
   ]
  },
  {
   "cell_type": "code",
   "execution_count": null,
   "metadata": {
    "colab": {
     "base_uri": "https://localhost:8080/"
    },
    "executionInfo": {
     "elapsed": 415,
     "status": "ok",
     "timestamp": 1653791559173,
     "user": {
      "displayName": "Jiashuo Sun",
      "userId": "04199336118403268685"
     },
     "user_tz": 420
    },
    "id": "4NJ8WajQgfYI",
    "outputId": "082c821f-fb47-47b8-b27c-843402e81d82"
   },
   "outputs": [
    {
     "data": {
      "text/plain": [
       "0    10000\n",
       "1     5000\n",
       "Name: pop_or_not, dtype: int64"
      ]
     },
     "execution_count": 31,
     "metadata": {},
     "output_type": "execute_result"
    }
   ],
   "source": [
    "y.value_counts()"
   ]
  },
  {
   "cell_type": "markdown",
   "metadata": {
    "id": "sc_WqHMB_jKm"
   },
   "source": [
    "## Fine tuning for the classifiers\n",
    "Now we have a denser input for the model, which improves the performance of the models and makes them run faster, we can perform fine tuning for the hyper-pararmeters of Randome Forest classifier and XGBoost Classifier."
   ]
  },
  {
   "cell_type": "markdown",
   "metadata": {
    "id": "QSujwBxCfM0o"
   },
   "source": [
    "#### Random Forest Classifier\n",
    "* From the simple model fitting with the same set of parameters, we can find that the model performance of random forest classifier with deep embedding matrix (f1 score = 0.68) is much better than the performance with TF-IDF matrix (f1 score = 0.57).\n",
    "* We will mainly focus on two hyper-parameters here: n_estimators, which is the number of trees; and max_features, which is the number of features to consider when looking for the best split."
   ]
  },
  {
   "cell_type": "code",
   "execution_count": null,
   "metadata": {
    "id": "9Uw0D1wNnCe8"
   },
   "outputs": [],
   "source": [
    "rf_model = RandomForestClassifier(n_estimators = 200, max_depth = 8, max_features = 200)\n",
    "rf_model.fit(X_train, y_train)\n",
    "y_pred = rf_model.predict(X_test)"
   ]
  },
  {
   "cell_type": "code",
   "execution_count": null,
   "metadata": {
    "colab": {
     "base_uri": "https://localhost:8080/"
    },
    "executionInfo": {
     "elapsed": 341,
     "status": "ok",
     "timestamp": 1653798800088,
     "user": {
      "displayName": "Jiashuo Sun",
      "userId": "04199336118403268685"
     },
     "user_tz": 420
    },
    "id": "lXFD3n18p8ez",
    "outputId": "f86bcf3c-71c4-46f8-8403-58ac71f82b9f"
   },
   "outputs": [
    {
     "name": "stdout",
     "output_type": "stream",
     "text": [
      "0.6896197327852004\n",
      "[[1725  275]\n",
      " [ 329  671]]\n"
     ]
    }
   ],
   "source": [
    "print(f1_score(y_test, y_pred))\n",
    "print(confusion_matrix(y_test, y_pred))"
   ]
  },
  {
   "cell_type": "markdown",
   "metadata": {
    "id": "z-euSxsJquYx"
   },
   "source": [
    "#### Parameter Tuning"
   ]
  },
  {
   "cell_type": "code",
   "execution_count": null,
   "metadata": {
    "colab": {
     "base_uri": "https://localhost:8080/"
    },
    "executionInfo": {
     "elapsed": 1085058,
     "status": "ok",
     "timestamp": 1653800060804,
     "user": {
      "displayName": "Jiashuo Sun",
      "userId": "04199336118403268685"
     },
     "user_tz": 420
    },
    "id": "neVZTrehemQn",
    "outputId": "3c5be045-6276-4061-ddcf-f8429888d81d"
   },
   "outputs": [
    {
     "name": "stdout",
     "output_type": "stream",
     "text": [
      "Best: 0.721673 using {'max_features': 50, 'n_estimators': 200}\n"
     ]
    }
   ],
   "source": [
    "rf_model = RandomForestClassifier()\n",
    "# define the value lists for the parameters we are interested in\n",
    "n_estimators = [100, 200]\n",
    "max_features = [25, 50]\n",
    "# define grid search\n",
    "grid = dict(n_estimators=n_estimators,max_features=max_features)\n",
    "# we will use f1 score as the scoring metrics for grid search\n",
    "grid_search = GridSearchCV(estimator=rf_model, param_grid=grid, n_jobs=-1, cv=5, scoring='f1',error_score=0)\n",
    "grid_result = grid_search.fit(X_train, y_train)\n",
    "# summarize results\n",
    "print(\"Best: %f using %s\" % (grid_result.best_score_, grid_result.best_params_))\n",
    "means = grid_result.cv_results_['mean_test_score']\n",
    "stds = grid_result.cv_results_['std_test_score']\n",
    "params = grid_result.cv_results_['params']"
   ]
  },
  {
   "cell_type": "code",
   "execution_count": null,
   "metadata": {
    "colab": {
     "base_uri": "https://localhost:8080/",
     "height": 279
    },
    "executionInfo": {
     "elapsed": 354,
     "status": "ok",
     "timestamp": 1653800088701,
     "user": {
      "displayName": "Jiashuo Sun",
      "userId": "04199336118403268685"
     },
     "user_tz": 420
    },
    "id": "9P7HgcY3eHMe",
    "outputId": "97bf0fc7-0f65-49b3-8010-a7562fa7a58c"
   },
   "outputs": [
    {
     "data": {
      "image/png": "[encoded data removed]",
      "text/plain": [
       "<Figure size 432x288 with 1 Axes>"
      ]
     },
     "metadata": {
      "needs_background": "light"
     },
     "output_type": "display_data"
    }
   ],
   "source": [
    "i = [x for x in range(1,5)]\n",
    "plt.errorbar(i, means, yerr=stds, marker='s', color='red')\n",
    "\n",
    "plt.xlabel(\"Parameter\")\n",
    "plt.ylabel(\"F1 SCORE\")\n",
    "plt.show()"
   ]
  },
  {
   "cell_type": "markdown",
   "metadata": {
    "id": "KZGuSQ1ilZzD"
   },
   "source": [
    "* **The best parameters are 'max_features' being 50, and 'n_estimators'being 200.**\n",
    "* The performance of this random forest classifier (F1 score = 0.72) is much better than the one using TF-IDF transformed matrix (F1 score = 0.57).\n",
    "* We did not use a very wide range of parameter values due to limitation of computational resources. With the parameter list above, it took around 40 minutes to train the grid search model."
   ]
  },
  {
   "cell_type": "markdown",
   "metadata": {
    "id": "Y9g8kb3Ri0TJ"
   },
   "source": [
    "#### XGBoost Classifier\n",
    "* From the simple model fitting with the same set of parameters, we can find that the model performance of XGBoost classifier with deep embedding matrix (f1 score = 0.80) is better than the performance with TF-IDF matrix (f1 score = 0.76).\n",
    "* For XGBoost classifier, we want to tune the parameters: learning rate, which is the boosting learning rate; and n_estimators, which is the number of boosting rounds."
   ]
  },
  {
   "cell_type": "code",
   "execution_count": null,
   "metadata": {
    "id": "ZOaiJXJGrh77"
   },
   "outputs": [],
   "source": [
    "xgb_cl = xgb.XGBClassifier(learning_rate=0.1,max_depth=8, n_estimators=200, random_state = 42)\n",
    "xgb_cl.fit(X_train, y_train)\n",
    "y_pred = xgb_cl.predict(X_test)"
   ]
  },
  {
   "cell_type": "code",
   "execution_count": null,
   "metadata": {
    "colab": {
     "base_uri": "https://localhost:8080/"
    },
    "executionInfo": {
     "elapsed": 390,
     "status": "ok",
     "timestamp": 1653809845467,
     "user": {
      "displayName": "Jiashuo Sun",
      "userId": "04199336118403268685"
     },
     "user_tz": 420
    },
    "id": "SSgzO7W-rqkM",
    "outputId": "29cbbdd5-ee14-4f92-8759-db97a4da2c2b"
   },
   "outputs": [
    {
     "name": "stdout",
     "output_type": "stream",
     "text": [
      "0.7993905535804977\n",
      "[[1818  182]\n",
      " [ 213  787]]\n"
     ]
    }
   ],
   "source": [
    "print(f1_score(y_test, y_pred))\n",
    "print(confusion_matrix(y_test, y_pred))"
   ]
  },
  {
   "cell_type": "markdown",
   "metadata": {
    "id": "N1kN7SCerrFY"
   },
   "source": [
    "Parameter Tuning"
   ]
  },
  {
   "cell_type": "code",
   "execution_count": null,
   "metadata": {
    "colab": {
     "base_uri": "https://localhost:8080/"
    },
    "executionInfo": {
     "elapsed": 2760661,
     "status": "ok",
     "timestamp": 1653808854133,
     "user": {
      "displayName": "Jiashuo Sun",
      "userId": "04199336118403268685"
     },
     "user_tz": 420
    },
    "id": "T9dwSBAai730",
    "outputId": "6d983aca-506d-4098-a5ee-4c0cfcd6ecf0"
   },
   "outputs": [
    {
     "name": "stdout",
     "output_type": "stream",
     "text": [
      "Best: 0.771382 using {'learning_rate': 0.3, 'max_depth': 8, 'n_estimators': 200}\n"
     ]
    }
   ],
   "source": [
    "xgb_model = xgb.XGBClassifier(random_state = 42)\n",
    "# define the value lists for the parameters we are interested in\n",
    "n_estimators = [100, 200]\n",
    "learning_rates = [0.1, 0.3]\n",
    "max_depth = [8]\n",
    "# define grid search\n",
    "grid = dict(n_estimators=n_estimators,learning_rate=learning_rates, max_depth = max_depth)\n",
    "# we will use f1 score as the scoring metrics for grid search\n",
    "grid_search = GridSearchCV(estimator=xgb_model, param_grid=grid, n_jobs=-1, cv=5, scoring='f1',error_score=0)\n",
    "grid_result = grid_search.fit(X, y)\n",
    "# summarize results\n",
    "print(\"Best: %f using %s\" % (grid_result.best_score_, grid_result.best_params_))\n",
    "means = grid_result.cv_results_['mean_test_score']\n",
    "stds = grid_result.cv_results_['std_test_score']\n",
    "params = grid_result.cv_results_['params']"
   ]
  },
  {
   "cell_type": "code",
   "execution_count": null,
   "metadata": {
    "colab": {
     "base_uri": "https://localhost:8080/",
     "height": 279
    },
    "executionInfo": {
     "elapsed": 2737,
     "status": "ok",
     "timestamp": 1653809885783,
     "user": {
      "displayName": "Jiashuo Sun",
      "userId": "04199336118403268685"
     },
     "user_tz": 420
    },
    "id": "nU1-EzhlkcdY",
    "outputId": "1001a74d-2564-411c-a420-9dc1e22b1d61"
   },
   "outputs": [
    {
     "data": {
      "image/png": "[encoded data removed]",
      "text/plain": [
       "<Figure size 432x288 with 1 Axes>"
      ]
     },
     "metadata": {
      "needs_background": "light"
     },
     "output_type": "display_data"
    }
   ],
   "source": [
    "i = [x for x in range(1,5)]\n",
    "plt.errorbar(i, means, yerr=stds, marker='s', color='red')\n",
    "\n",
    "plt.xlabel(\"Parameter\")\n",
    "plt.ylabel(\"F1 SCORE\")\n",
    "plt.show()"
   ]
  },
  {
   "cell_type": "markdown",
   "metadata": {
    "id": "gtmp5K8wlr41"
   },
   "source": [
    "* **On average, the best parameters are learning_rate = 0.3, max_depth = 8, n_estimators = 200. But we can see from the plot that different combinations of parameters actually have very similar performance. And best performance can be around 0.9**\n",
    "* The performance of this XGBoost classifier is also better than the one using TF-IDF transformed matrix."
   ]
  },
  {
   "cell_type": "markdown",
   "metadata": {
    "id": "wNvRrPLRlRY_"
   },
   "source": [
    "### Limitation\n",
    "---\n",
    "* In the modeling process, we disregard the timestamp, and use all the submissions in a certain time period regardless of their timestamp to train the model and test the model. But in the real world, timestamp is important, because trending topics might change over a period of time, and the order of these trending topics is also important.\n",
    "\n",
    "* We just used the data from Reddit as our data source, and did not acquire more datasets from other social media platforms to cross validate our conclusions from Reddit data analysis. So we cannot make sure that our findings can be generalizable to other social media platforms. \n",
    "\n",
    "* We cannot validate whether the proposed monitoring method for predicted popular submission will successfully predict the next huge social media event, since this kind of event is very rare."
   ]
  },
  {
   "cell_type": "markdown",
   "metadata": {
    "id": "2wcTZeluoRXZ"
   },
   "source": [
    "### Future Work\n",
    "---\n",
    "* We might need to keep the timestamp and treat the dataset as a time series dataset, and properly divide the time periods to generate features and labels. \n",
    "* We might need to collect more data from various social media platforms, for example, Twitter, Facebook, ...etc. After analysis of datasets from different sources, we might be able to derive some more generalizable findings and reccomendations.\n"
   ]
  },
  {
   "cell_type": "code",
   "execution_count": null,
   "metadata": {
    "id": "tE3m6jBUoSwK"
   },
   "outputs": [],
   "source": []
  }
 ],
 "metadata": {
  "colab": {
   "collapsed_sections": [],
   "name": "Team4_FinalReport_Prediction.ipynb",
   "provenance": [
    {
     "file_id": "1DVezKnZ5QvZxehDCegRa307rQK-d9IDY",
     "timestamp": 1653191674364
    },
    {
     "file_id": "https://github.com/pytorch/tutorials/blob/gh-pages/_downloads/a60617788061539b5449701ae76aee56/seq2seq_translation_tutorial.ipynb",
     "timestamp": 1648598351201
    }
   ]
  },
  "kernelspec": {
   "display_name": "Python 3 (ipykernel)",
   "language": "python",
   "name": "python3"
  },
  "language_info": {
   "codemirror_mode": {
    "name": "ipython",
    "version": 3
   },
   "file_extension": ".py",
   "mimetype": "text/x-python",
   "name": "python",
   "nbconvert_exporter": "python",
   "pygments_lexer": "ipython3",
   "version": "3.8.10"
  }
 },
 "nbformat": 4,
 "nbformat_minor": 1
}
